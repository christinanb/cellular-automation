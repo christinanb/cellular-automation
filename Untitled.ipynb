{
 "cells": [
  {
   "cell_type": "markdown",
   "metadata": {},
   "source": [
    "### Import files"
   ]
  },
  {
   "cell_type": "code",
   "execution_count": 9,
   "metadata": {
    "scrolled": true
   },
   "outputs": [
    {
     "name": "stdout",
     "output_type": "stream",
     "text": [
      "2\n",
      "2\n",
      "9\n",
      "10\n"
     ]
    },
    {
     "ename": "SystemExit",
     "evalue": "listofitems not long enough",
     "output_type": "error",
     "traceback": [
      "An exception has occurred, use %tb to see the full traceback.\n",
      "\u001b[0;31mSystemExit\u001b[0m\u001b[0;31m:\u001b[0m listofitems not long enough\n"
     ]
    }
   ],
   "source": [
    "from control import PedestrianController\n",
    "from run import *\n",
    "runsim('./Test_Cases/task2.dat')\n",
    "\n"
   ]
  },
  {
   "cell_type": "markdown",
   "metadata": {},
   "source": [
    "# Test 1"
   ]
  },
  {
   "cell_type": "code",
   "execution_count": null,
   "metadata": {},
   "outputs": [],
   "source": []
  },
  {
   "cell_type": "markdown",
   "metadata": {},
   "source": [
    "# Test 3\n"
   ]
  },
  {
   "cell_type": "code",
   "execution_count": 10,
   "metadata": {},
   "outputs": [
    {
     "name": "stdout",
     "output_type": "stream",
     "text": [
      "Elapsed time: 10.853795766830444 s\n",
      "Elapsed time: 13.527727127075195 s\n",
      "Elapsed time: 16.163783073425293 s\n",
      "Elapsed time: 18.555255889892578 s\n",
      "Elapsed time: 20.80863618850708 s\n"
     ]
    }
   ],
   "source": [
    "\n",
    "from numpy.random import default_rng\n",
    "\n",
    "rng = default_rng()\n",
    "pedestrian_loc = rng.choice([(x, y) for x in range(1, 21) for y in range(11, 13)], size=20, replace=False)\n",
    "\n",
    "obstacles_loc = [(x, 10) for x in range(1, 25)] + [(x, 13) for x in range(1, 28)] + [(25, y) for y in range(1, 11)] + [(28, y) for y in range(1, 14)]\n",
    "\n",
    "targets_loc = [(x, 1) for x in range(26, 28)]\n",
    "\n",
    "controller = PedestrianController(30, 15, pedestrian_loc,  \n",
    "                                    targets_loc, obstacles_loc, 1.3, 10000, True, True, True)\n",
    "controller.init_costs()\n",
    "controller.run()"
   ]
  },
  {
   "cell_type": "code",
   "execution_count": null,
   "metadata": {},
   "outputs": [],
   "source": []
  }
 ],
 "metadata": {
  "interpreter": {
   "hash": "442967cb982b83b0d3e02c11ef8c3433153d79655becdc609ddbf1b34f6fa1e1"
  },
  "kernelspec": {
   "display_name": "Python 3 (ipykernel)",
   "language": "python",
   "name": "python3"
  },
  "language_info": {
   "codemirror_mode": {
    "name": "ipython",
    "version": 3
   },
   "file_extension": ".py",
   "mimetype": "text/x-python",
   "name": "python",
   "nbconvert_exporter": "python",
   "pygments_lexer": "ipython3",
   "version": "3.8.10"
  }
 },
 "nbformat": 4,
 "nbformat_minor": 4
}
