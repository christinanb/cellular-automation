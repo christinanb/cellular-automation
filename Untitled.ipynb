{
 "cells": [
  {
   "cell_type": "markdown",
   "metadata": {},
   "source": [
    "### Import files"
   ]
  },
  {
   "cell_type": "code",
   "execution_count": 15,
   "metadata": {
    "scrolled": true
   },
   "outputs": [],
   "source": [
    "from control import PedestrianController\n",
    "from run import *\n",
    "runsim('./Test_Cases/task1.dat')"
   ]
  },
  {
   "cell_type": "markdown",
   "metadata": {},
   "source": [
    "# Test 1: RiMEA scenario 1"
   ]
  },
  {
   "cell_type": "code",
   "execution_count": null,
   "metadata": {},
   "outputs": [],
   "source": []
  },
  {
   "cell_type": "markdown",
   "metadata": {},
   "source": [
    "# Test 2: RiMEA scenario 4"
   ]
  },
  {
   "cell_type": "code",
   "execution_count": 25,
   "metadata": {},
   "outputs": [
    {
     "data": {
      "text/plain": [
       "'\\nfig, ax = plot.subplots(1,1)\\n\\nax.set_xlabel(\"Speed\")\\nax.set_ylabel(\"Locations\")\\n'"
      ]
     },
     "execution_count": 25,
     "metadata": {},
     "output_type": "execute_result"
    }
   ],
   "source": [
    "from numpy.random import default_rng\n",
    "import random\n",
    "import matplotlib.pyplot as plot\n",
    "\n",
    "rng = default_rng()\n",
    "size_pedestrians = 20\n",
    "pedestrian_loc = rng.choice([(x, y) for x in range(1, 21) for y in range(5, 10)], size=size_pedestrians, replace=False)\n",
    "\n",
    "obstacles_loc = [(x, 4) for x in range(1, 99)] + [(x, 10) for x in range(1, 99)] + [(50, 7), (50, 8), (35, 7)]\n",
    "\n",
    "targets_loc = [(97, y) for y in range(6, 8)]\n",
    "\n",
    "speed = []\n",
    "for i in range(0, size_pedestrians):\n",
    "    num = random.uniform(1.2, 1.4)\n",
    "    speed.append(num)\n",
    "\n",
    "controller = PedestrianController(100, 15, pedestrian_loc,  \n",
    "                                    targets_loc, obstacles_loc, speed, 10000, True, True, True)\n",
    "\n",
    "controller.init_costs()\n",
    "controller.run()\n",
    "\"\"\"\n",
    "fig, ax = plot.subplots(1,1)\n",
    "\n",
    "ax.set_xlabel(\"Speed\")\n",
    "ax.set_ylabel(\"Locations\")\n",
    "\"\"\""
   ]
  },
  {
   "cell_type": "markdown",
   "metadata": {},
   "source": [
    "# Test 3: RiMEA scenario 6\n"
   ]
  },
  {
   "cell_type": "code",
   "execution_count": 2,
   "metadata": {},
   "outputs": [
    {
     "name": "stdout",
     "output_type": "stream",
     "text": [
      "Elapsed time: 10.066191673278809 s\n",
      "Elapsed time: 11.637939214706421 s\n",
      "Elapsed time: 13.13344144821167 s\n",
      "Elapsed time: 14.617024183273315 s\n",
      "Elapsed time: 14.673274755477905 s\n",
      "Elapsed time: 17.24295401573181 s\n",
      "Elapsed time: 17.58654284477234 s\n",
      "Elapsed time: 19.448304653167725 s\n",
      "Elapsed time: 19.86883807182312 s\n"
     ]
    }
   ],
   "source": [
    "from numpy.random import default_rng\n",
    "\n",
    "rng = default_rng()\n",
    "pedestrian_loc = rng.choice([(x, y) for x in range(1, 21) for y in range(11, 13)], size=20, replace=False)\n",
    "\n",
    "obstacles_loc = [(x, 10) for x in range(1, 25)] + [(x, 13) for x in range(1, 28)] + [(25, y) for y in range(1, 11)] + [(28, y) for y in range(1, 14)]\n",
    "\n",
    "targets_loc = [(x, 1) for x in range(26, 28)]\n",
    "\n",
    "controller = PedestrianController(30, 15, pedestrian_loc,  \n",
    "                                    targets_loc, obstacles_loc, 1.3, 10000, True, True, True)\n",
    "controller.init_costs()\n",
    "controller.run()"
   ]
  },
  {
   "cell_type": "markdown",
   "metadata": {},
   "source": [
    "# Test 4: RiMEA scenario 7"
   ]
  },
  {
   "cell_type": "code",
   "execution_count": null,
   "metadata": {},
   "outputs": [],
   "source": [
    "from numpy.random import default_rng\n",
    "import random\n",
    "\n",
    "rng = default_rng()\n",
    "size_pedestrians = 50\n",
    "pedestrian_loc = rng.choice([(x, y) for x in range(1, 21) for y in range(5, 10)], size=size_pedestrians, replace=False)\n",
    "\n",
    "obstacles_loc = [(x, 4) for x in range(1, 99)] + [(x, 10) for x in range(1, 99)] + [(50, 7), (50, 8), (35, 7)]\n",
    "\n",
    "targets_loc = [(97, y) for y in range(6, 8)]\n",
    "\n",
    "speed = []\n",
    "for i in range(0, size_pedestrians):\n",
    "    num = random.uniform(1.2, 1.4)\n",
    "    speed.append(num)\n",
    "\n",
    "controller = PedestrianController(100, 15, pedestrian_loc,  \n",
    "                                    targets_loc, obstacles_loc, speed, 10000, True, True, True)\n",
    "\n",
    "controller.init_costs()\n",
    "controller.run()"
   ]
  }
 ],
 "metadata": {
  "interpreter": {
   "hash": "442967cb982b83b0d3e02c11ef8c3433153d79655becdc609ddbf1b34f6fa1e1"
  },
  "kernelspec": {
   "display_name": "Python 3.7.4 64-bit",
   "name": "python3"
  },
  "language_info": {
   "codemirror_mode": {
    "name": "ipython",
    "version": 3
   },
   "file_extension": ".py",
   "mimetype": "text/x-python",
   "name": "python",
   "nbconvert_exporter": "python",
   "pygments_lexer": "ipython3",
   "version": "3.7.4"
  }
 },
 "nbformat": 4,
 "nbformat_minor": 4
}
