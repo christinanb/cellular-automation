{
 "cells": [
  {
   "cell_type": "markdown",
   "metadata": {},
   "source": [
    "### Import files"
   ]
  },
  {
   "cell_type": "code",
   "execution_count": 1,
   "metadata": {
    "scrolled": true
   },
   "outputs": [
    {
     "name": "stdout",
     "output_type": "stream",
     "text": [
      "pygame 2.0.1 (SDL 2.0.14, Python 3.8.5)\n",
      "Hello from the pygame community. https://www.pygame.org/contribute.html\n"
     ]
    }
   ],
   "source": [
    "from control import PedestrianController\n",
    "from run import *\n",
    "\n",
    "%load_ext autoreload\n",
    "%autoreload 2"
   ]
  },
  {
   "cell_type": "markdown",
   "metadata": {},
   "source": [
    "# Task 1"
   ]
  },
  {
   "cell_type": "code",
   "execution_count": null,
   "metadata": {},
   "outputs": [],
   "source": [
    "runsim('./Test_Cases/task1.dat')"
   ]
  },
  {
   "cell_type": "markdown",
   "metadata": {},
   "source": [
    "# Task 2\n",
    "\n",
    "A pedestrian at (5, 25) walks towards a target at (25, 25).\n",
    "It performs 25 steps so in the mean-time reaching its target."
   ]
  },
  {
   "cell_type": "code",
   "execution_count": 3,
   "metadata": {},
   "outputs": [],
   "source": [
    "runsim('./Test_Cases/task2.dat')"
   ]
  },
  {
   "cell_type": "markdown",
   "metadata": {},
   "source": [
    "# task 3\n",
    "\n",
    "5 pedestrians are located in a circle with radius 30m around the target.\n",
    "In case of non-absorbing targets, only one pedestrian claims the target while the others gather around."
   ]
  },
  {
   "cell_type": "code",
   "execution_count": 10,
   "metadata": {},
   "outputs": [
    {
     "name": "stdout",
     "output_type": "stream",
     "text": [
      "Elapsed time: 21.483683824539185 s\n"
     ]
    }
   ],
   "source": [
    "runsim('./Test_Cases/task3_without_devour.dat')"
   ]
  },
  {
   "cell_type": "markdown",
   "metadata": {},
   "source": [
    "In case of absorbing targets, all pedestrians eventually reach the target, one-by-one."
   ]
  },
  {
   "cell_type": "code",
   "execution_count": 11,
   "metadata": {},
   "outputs": [
    {
     "name": "stdout",
     "output_type": "stream",
     "text": [
      "Elapsed time: 21.445770025253296 s\n",
      "Elapsed time: 22.04286789894104 s\n",
      "Elapsed time: 22.72159504890442 s\n",
      "Elapsed time: 23.51622700691223 s\n",
      "Elapsed time: 24.308092832565308 s\n"
     ]
    }
   ],
   "source": [
    "runsim('./Test_Cases/task3_with_devour.dat')"
   ]
  },
  {
   "cell_type": "markdown",
   "metadata": {},
   "source": [
    "# task 4\n",
    "\n",
    "When using the standard distance-based cost-function, the pedestrians fail the chicken-test and get stuck in the cage."
   ]
  },
  {
   "cell_type": "code",
   "execution_count": 12,
   "metadata": {},
   "outputs": [],
   "source": [
    "runsim('./Test_Cases/task4_standard.dat')"
   ]
  },
  {
   "cell_type": "markdown",
   "metadata": {},
   "source": [
    "The dijkstra-algorithm solves this ptoblem. All pedestrians avoid the obstacle and reach their target.\n",
    "This is visualized by the overlayed cost-function flowing around the obstacle."
   ]
  },
  {
   "cell_type": "code",
   "execution_count": 14,
   "metadata": {},
   "outputs": [
    {
     "name": "stdout",
     "output_type": "stream",
     "text": [
      "Elapsed time: 17.249239683151245 s\n",
      "Elapsed time: 19.598801136016846 s\n",
      "Elapsed time: 20.132277011871338 s\n"
     ]
    }
   ],
   "source": [
    "runsim('./Test_Cases/task4_dijkstra.dat')"
   ]
  },
  {
   "cell_type": "markdown",
   "metadata": {},
   "source": [
    "# Test 1: RiMEA scenario 1"
   ]
  },
  {
   "cell_type": "code",
   "execution_count": null,
   "metadata": {},
   "outputs": [],
   "source": []
  },
  {
   "cell_type": "markdown",
   "metadata": {},
   "source": [
    "# Test 2: RiMEA scenario 4"
   ]
  },
  {
   "cell_type": "code",
   "execution_count": 15,
   "metadata": {},
   "outputs": [
    {
     "data": {
      "text/plain": [
       "'\\nfig, ax = plot.subplots(1,1)\\n\\nax.set_xlabel(\"Speed\")\\nax.set_ylabel(\"Locations\")\\n'"
      ]
     },
     "execution_count": 15,
     "metadata": {},
     "output_type": "execute_result"
    }
   ],
   "source": [
    "from numpy.random import default_rng\n",
    "import random\n",
    "import matplotlib.pyplot as plot\n",
    "\n",
    "rng = default_rng()\n",
    "size_pedestrians = 20\n",
    "pedestrian_loc = rng.choice([(x, y) for x in range(1, 21) for y in range(5, 10)], size=size_pedestrians, replace=False)\n",
    "\n",
    "obstacles_loc = [(x, 4) for x in range(1, 99)] + [(x, 10) for x in range(1, 99)] + [(50, 7), (50, 8), (35, 7)]\n",
    "\n",
    "targets_loc = [(97, y) for y in range(6, 8)]\n",
    "\n",
    "speed = []\n",
    "for i in range(0, size_pedestrians):\n",
    "    num = random.uniform(1.2, 1.4)\n",
    "    speed.append(num)\n",
    "\n",
    "controller = PedestrianController(100, 15, pedestrian_loc,  \n",
    "                                    targets_loc, obstacles_loc, speed, 10000, True, True, True)\n",
    "\n",
    "controller.init_costs()\n",
    "controller.run()\n",
    "\"\"\"\n",
    "fig, ax = plot.subplots(1,1)\n",
    "\n",
    "ax.set_xlabel(\"Speed\")\n",
    "ax.set_ylabel(\"Locations\")\n",
    "\"\"\""
   ]
  },
  {
   "cell_type": "markdown",
   "metadata": {},
   "source": [
    "# Test 3: RiMEA scenario 6\n"
   ]
  },
  {
   "cell_type": "code",
   "execution_count": 17,
   "metadata": {},
   "outputs": [],
   "source": [
    "from numpy.random import default_rng\n",
    "\n",
    "rng = default_rng()\n",
    "pedestrian_loc = rng.choice([(x, y) for x in range(1, 21) for y in range(11, 13)], size=20, replace=False)\n",
    "\n",
    "obstacles_loc = [(x, 10) for x in range(1, 25)] + [(x, 13) for x in range(1, 28)] + [(25, y) for y in range(1, 11)] + [(28, y) for y in range(1, 14)]\n",
    "\n",
    "targets_loc = [(x, 1) for x in range(26, 28)]\n",
    "\n",
    "controller = PedestrianController(30, 15, pedestrian_loc,  \n",
    "                                    targets_loc, obstacles_loc, [1.3], 10000, True, True, True)\n",
    "controller.init_costs()\n",
    "controller.run()"
   ]
  },
  {
   "cell_type": "markdown",
   "metadata": {},
   "source": [
    "# Test 4: RiMEA scenario 7"
   ]
  },
  {
   "cell_type": "code",
   "execution_count": 18,
   "metadata": {},
   "outputs": [],
   "source": [
    "from numpy.random import default_rng\n",
    "import random\n",
    "\n",
    "rng = default_rng()\n",
    "size_pedestrians = 50\n",
    "pedestrian_loc = rng.choice([(x, y) for x in range(1, 21) for y in range(5, 10)], size=size_pedestrians, replace=False)\n",
    "\n",
    "obstacles_loc = [(x, 4) for x in range(1, 99)] + [(x, 10) for x in range(1, 99)] + [(50, 7), (50, 8), (35, 7)]\n",
    "\n",
    "targets_loc = [(97, y) for y in range(6, 8)]\n",
    "\n",
    "speed = []\n",
    "for i in range(0, size_pedestrians):\n",
    "    num = random.uniform(1.2, 1.4)\n",
    "    speed.append(num)\n",
    "\n",
    "controller = PedestrianController(100, 15, pedestrian_loc,  \n",
    "                                    targets_loc, obstacles_loc, speed, 10000, True, True, True)\n",
    "\n",
    "controller.init_costs()\n",
    "controller.run()"
   ]
  },
  {
   "cell_type": "code",
   "execution_count": null,
   "metadata": {},
   "outputs": [],
   "source": []
  }
 ],
 "metadata": {
  "interpreter": {
   "hash": "aee8b7b246df8f9039afb4144a1f6fd8d2ca17a180786b69acc140d282b71a49"
  },
  "kernelspec": {
   "display_name": "Python 3.8.5 64-bit",
   "name": "python3"
  },
  "language_info": {
   "codemirror_mode": {
    "name": "ipython",
    "version": 3
   },
   "file_extension": ".py",
   "mimetype": "text/x-python",
   "name": "python",
   "nbconvert_exporter": "python",
   "pygments_lexer": "ipython3",
   "version": "3.8.5"
  }
 },
 "nbformat": 4,
 "nbformat_minor": 4
}
