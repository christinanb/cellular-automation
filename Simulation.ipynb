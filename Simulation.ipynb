{
 "cells": [
  {
   "cell_type": "markdown",
   "metadata": {},
   "source": [
    "### Import files"
   ]
  },
  {
   "cell_type": "code",
   "execution_count": 1,
   "metadata": {
    "scrolled": true
   },
   "outputs": [
    {
     "name": "stdout",
     "output_type": "stream",
     "text": [
      "pygame 2.0.2 (SDL 2.0.16, Python 3.8.10)\n",
      "Hello from the pygame community. https://www.pygame.org/contribute.html\n"
     ]
    }
   ],
   "source": [
    "from control import PedestrianController\n",
    "from run import *\n",
    "\n",
    "%load_ext autoreload\n",
    "%autoreload 2"
   ]
  },
  {
   "cell_type": "markdown",
   "metadata": {},
   "source": [
    "# Task 1"
   ]
  },
  {
   "cell_type": "code",
   "execution_count": null,
   "metadata": {},
   "outputs": [],
   "source": [
    "runsim('./Test_Cases/task1.dat')"
   ]
  },
  {
   "cell_type": "markdown",
   "metadata": {},
   "source": [
    "# Task 2\n",
    "\n",
    "A pedestrian at (5, 25) walks towards a target at (25, 25).\n",
    "It performs 25 steps so in the mean-time reaching its target."
   ]
  },
  {
   "cell_type": "code",
   "execution_count": null,
   "metadata": {},
   "outputs": [],
   "source": [
    "runsim('./Test_Cases/task2.dat')"
   ]
  },
  {
   "cell_type": "markdown",
   "metadata": {},
   "source": [
    "# Task 3\n",
    "\n",
    "5 pedestrians are located in a circle with radius 30m around the target.\n",
    "In case of non-absorbing targets, only one pedestrian claims the target while the others gather around."
   ]
  },
  {
   "cell_type": "code",
   "execution_count": null,
   "metadata": {},
   "outputs": [],
   "source": [
    "runsim('./Test_Cases/task3_without_devour.dat')"
   ]
  },
  {
   "cell_type": "markdown",
   "metadata": {},
   "source": [
    "In case of absorbing targets, all pedestrians eventually reach the target, one-by-one."
   ]
  },
  {
   "cell_type": "code",
   "execution_count": null,
   "metadata": {},
   "outputs": [],
   "source": [
    "runsim('./Test_Cases/task3_with_devour.dat')"
   ]
  },
  {
   "cell_type": "markdown",
   "metadata": {},
   "source": [
    "# Task 4\n",
    "\n",
    "When using the standard distance-based cost function, the pedestrians fail the chicken-test and get stuck in the cage."
   ]
  },
  {
   "cell_type": "code",
   "execution_count": null,
   "metadata": {},
   "outputs": [],
   "source": [
    "runsim('./Test_Cases/task4_standard.dat')"
   ]
  },
  {
   "cell_type": "markdown",
   "metadata": {},
   "source": [
    "The dijkstra-algorithm solves this ptoblem. All pedestrians avoid the obstacle and reach their target.\n",
    "This is visualized by the overlayed cost-function flowing around the obstacle."
   ]
  },
  {
   "cell_type": "code",
   "execution_count": null,
   "metadata": {},
   "outputs": [],
   "source": [
    "runsim('./Test_Cases/task4_dijkstra.dat')"
   ]
  },
  {
   "cell_type": "markdown",
   "metadata": {},
   "source": [
    "The corridor example for this task has been implemented as code instead of file since there are multiple obstacles."
   ]
  },
  {
   "cell_type": "code",
   "execution_count": null,
   "metadata": {},
   "outputs": [],
   "source": [
    "in_val = input('Implement dijkstra? y/n:')\n",
    "if in_val == 'y':\n",
    "    dijkstra = True\n",
    "elif in_val == 'n':\n",
    "    dijkstra = False\n",
    "else:\n",
    "    print(\"ERROR: Invalid value. Write 'y' or 'n'\")\n",
    "    exit()\n",
    "\n",
    "pedestrian_loc = [(5, 23), (3, 27), (7, 32)]\n",
    "\n",
    "obstacles_loc = [(x, 20) for x in range(0, 20)] + [(x, 35) for x in range(0, 20)] + [(20, y) for y in range(20, 26)] + [(20, y) for y in range(30, 36)] + [(x, 20) for x in range(30, 50)] + [(x, 35) for x in range(30, 50)] + [(30, y) for y in range(20, 26)] + [(30, y) for y in range(30, 36)] + [(x, 30) for x in range(20, 30)] + [(x, 28) for x in range(20, 30)] + [(x, 25) for x in range(20, 30)] + [(29,29)]\n",
    "\n",
    "targets_loc = [(40, 28)]\n",
    "\n",
    "controller = PedestrianController(50, 50, pedestrian_loc,  \n",
    "                                    targets_loc, obstacles_loc, None, [1.3], 100, True, dijkstra, True, True)\n",
    "controller.init_costs()\n",
    "controller.run()"
   ]
  },
  {
   "cell_type": "markdown",
   "metadata": {},
   "source": [
    "# Task 5\n",
    "## Test 1: RiMEA scenario 1"
   ]
  },
  {
   "cell_type": "code",
   "execution_count": 51,
   "metadata": {},
   "outputs": [
    {
     "name": "stdout",
     "output_type": "stream",
     "text": [
      "simulation running with no visualization\n",
      "Elapsed time: 29.128154039382935 s for pedestrian # 0\n",
      "simulation running with no visualization\n",
      "Elapsed time: 30.412557363510132 s for pedestrian # 0\n",
      "simulation running with no visualization\n",
      "Elapsed time: 27.98263192176819 s for pedestrian # 0\n",
      "simulation running with no visualization\n",
      "Elapsed time: 30.11345338821411 s for pedestrian # 0\n",
      "simulation running with no visualization\n",
      "Elapsed time: 30.93341827392578 s for pedestrian # 0\n",
      "simulation running with no visualization\n",
      "Elapsed time: 28.090919733047485 s for pedestrian # 0\n",
      "simulation running with no visualization\n",
      "Elapsed time: 30.817729711532593 s for pedestrian # 0\n",
      "simulation running with no visualization\n",
      "Elapsed time: 29.352102279663086 s for pedestrian # 0\n",
      "simulation running with no visualization\n",
      "Elapsed time: 29.18662691116333 s for pedestrian # 0\n",
      "simulation running with no visualization\n",
      "Elapsed time: 30.979845762252808 s for pedestrian # 0\n",
      "simulation running with no visualization\n",
      "Elapsed time: 30.646767616271973 s for pedestrian # 0\n",
      "simulation running with no visualization\n",
      "Elapsed time: 30.198100328445435 s for pedestrian # 0\n",
      "simulation running with no visualization\n",
      "Elapsed time: 30.485175609588623 s for pedestrian # 0\n",
      "simulation running with no visualization\n",
      "Elapsed time: 29.594197034835815 s for pedestrian # 0\n",
      "simulation running with no visualization\n",
      "Elapsed time: 30.855145692825317 s for pedestrian # 0\n",
      "simulation running with no visualization\n",
      "Elapsed time: 28.571712732315063 s for pedestrian # 0\n"
     ]
    },
    {
     "data": {
      "text/plain": [
       "Text(0.5, 1.0, 'Expected')"
      ]
     },
     "execution_count": 51,
     "metadata": {},
     "output_type": "execute_result"
    },
    {
     "data": {
      "image/png": "[encoded data removed]",
      "text/plain": [
       "<Figure size 432x288 with 1 Axes>"
      ]
     },
     "metadata": {
      "needs_background": "light"
     },
     "output_type": "display_data"
    },
    {
     "data": {
      "image/png": "[encoded data removed]",
      "text/plain": [
       "<Figure size 432x288 with 1 Axes>"
      ]
     },
     "metadata": {
      "needs_background": "light"
     },
     "output_type": "display_data"
    }
   ],
   "source": [
    "from numpy.random import default_rng\n",
    "import random\n",
    "import seaborn as sns\n",
    "import matplotlib.pyplot as plt\n",
    "\n",
    "times=[]\n",
    "speeds=[]\n",
    "times_expected=[]\n",
    "hallway_distance =41\n",
    "\n",
    "#Run a series of simulations and record the time pedestrian takes to reach target \n",
    "#starting with a speed between 1.2 and 1.4 m/s\n",
    "for i in range (0,15):\n",
    "\n",
    "    width = 50\n",
    "    height = 8\n",
    "    \n",
    "    ped_start = random.randint(3, 4)\n",
    "    pedestrian_loc = [(2, 3)]\n",
    "\n",
    "    obstacles_loc = [(x, 2) for x in range(1, hallway_distance)] + [(x, 5) for x in range(1, hallway_distance)]\n",
    "\n",
    "    targets_loc = [(hallway_distance-1, y) for y in range(3, 5)]\n",
    "\n",
    "    speed = []\n",
    "    num = random.uniform(1.2, 1.4)\n",
    "    speed.append(num)\n",
    "    speeds.append(num)\n",
    "    \n",
    "    #Create expected value for speed and time    \n",
    "    times_expected.append((hallway_distance-3)/num)\n",
    "\n",
    "    points = None\n",
    "\n",
    "    controller = PedestrianController(width, height, pedestrian_loc,  \n",
    "                                    targets_loc, obstacles_loc, points, speed, 10000, True, True, True,False,True)\n",
    "\n",
    "    controller.init_costs()\n",
    "    controller.run()\n",
    "    times.extend(controller.finishing_times)\n",
    " \n",
    "#Running the 1.33 m/s verification run and add to the rest of the collected data\n",
    "\n",
    "controller = PedestrianController(width, height, pedestrian_loc,  \n",
    "                                    targets_loc, obstacles_loc, points, [1.33], 10000, True, True, True,False,True)\n",
    "speeds.append(1.33)\n",
    "\n",
    "#Create expected values for speed and time \n",
    "times_expected.append((hallway_distance-3)/1.33)\n",
    "\n",
    "controller.init_costs()\n",
    "controller.run()\n",
    "times.extend(controller.finishing_times)\n",
    "\n",
    "\n",
    "\n",
    "#Create a plot to analyze results wiht 75% confidence interval\n",
    "plt.figure(1)\n",
    "sns.regplot(speeds, times, ci=75)\n",
    "plt.ylim(27, 32)\n",
    "plt.xlim(1.21, 1.39)\n",
    "#naming the x axis\n",
    "plt.xlabel('Walking Speed (m/s)')\n",
    "# naming the y axis\n",
    "plt.ylabel('Target Arrival Time (s)') \n",
    "#Plot Title\n",
    "plt.title(\"Experimental\")\n",
    "\n",
    "\n",
    "\n",
    "#plotting the expected values\n",
    "plt.figure(2)\n",
    "sns.regplot(speeds, times_expected,ci= None, scatter_kws={\"color\": \"green\"},line_kws={\"color\": \"green\",\"linewidth\":1,\"linestyle\":'dashed'})\n",
    "plt.ylim(27, 32)\n",
    "plt.xlim(1.21, 1.39)\n",
    "\n",
    "#naming the x axis\n",
    "plt.xlabel('Walking Speed (m/s)')\n",
    "# naming the y axis\n",
    "plt.ylabel('Target Arrival Time (s)')  \n",
    "#Plot Title\n",
    "plt.title(\"Expected\")"
   ]
  },
  {
   "cell_type": "markdown",
   "metadata": {},
   "source": [
    "## Test 2: RiMEA scenario 4"
   ]
  },
  {
   "cell_type": "code",
   "execution_count": null,
   "metadata": {},
   "outputs": [],
   "source": [
    "from numpy.random import default_rng\n",
    "import random\n",
    "import matplotlib.pyplot as plot\n",
    "\n",
    "rng = default_rng()\n",
    "size_pedestrians = 100\n",
    "pedestrian_loc = rng.choice([(x, y) for x in range(3, 50) for y in range(3, 8)], size=size_pedestrians, replace=False)\n",
    "\n",
    "obstacles_loc = [(x, 2) for x in range(1, 148)] + [(x, 8) for x in range(1, 148)]\n",
    "\n",
    "targets_loc = [(148, y) for y in range(4, 6)]\n",
    "\n",
    "speed = []\n",
    "for i in range(0, size_pedestrians):\n",
    "    num = random.uniform(0.6, 0.7) # 1.2, 1.4 => 0.6, 0.7\n",
    "    speed.append(num)\n",
    "\n",
    "points = [(75, 5), (75, 6), (68, 5)]\n",
    "\n",
    "areas = [[(0, 7), (25, 3)], [(26, 7), (45, 3)], [(46, 7), (65, 3)], [(66, 7), (85, 3)], [(86, 7), (105, 3)], [(106, 7), (125, 3)], [(126, 7), (146, 3)]]\n",
    "\n",
    "#densities = [0.5, 1, 2, 3, 4, 5, 6]\n",
    "#densities = [0.25, 0.5, 1, 1.5, 2, 2.5, 3]\n",
    "\n",
    "controller = PedestrianController(150, 11, pedestrian_loc, \n",
    "                                    targets_loc, obstacles_loc, points, speed, 10000, True, True, True)\n",
    "controller.set_areas(areas)\n",
    "\n",
    "controller.init_costs()\n",
    "controller.run()\n",
    "\n",
    "\"\"\"\n",
    "fig, ax = plot.subplots(1,1)\n",
    "\n",
    "ax.set_xlabel(\"Speed\")\n",
    "ax.set_ylabel(\"Locations\")\n",
    "\"\"\""
   ]
  },
  {
   "cell_type": "markdown",
   "metadata": {},
   "source": [
    "## Test 3: RiMEA scenario 6\n"
   ]
  },
  {
   "cell_type": "code",
   "execution_count": null,
   "metadata": {},
   "outputs": [],
   "source": [
    "from numpy.random import default_rng\n",
    "\n",
    "rng = default_rng()\n",
    "pedestrian_loc = rng.choice([(x, y) for x in range(1, 21) for y in range(11, 13)], size=20, replace=False)\n",
    "\n",
    "obstacles_loc = [(x, 10) for x in range(1, 25)] + [(x, 13) for x in range(1, 28)] + [(25, y) for y in range(1, 11)] + [(28, y) for y in range(1, 14)]\n",
    "\n",
    "targets_loc = [(x, 1) for x in range(26, 28)]\n",
    "\n",
    "controller = PedestrianController(30, 15, pedestrian_loc,  \n",
    "                                    targets_loc, obstacles_loc, None, [1.3], 10000, True, True, True)\n",
    "controller.init_costs()\n",
    "controller.run()"
   ]
  },
  {
   "cell_type": "markdown",
   "metadata": {},
   "source": [
    "## Test 4: RiMEA scenario 7"
   ]
  },
  {
   "cell_type": "code",
   "execution_count": null,
   "metadata": {},
   "outputs": [],
   "source": [
    "from numpy.random import default_rng\n",
    "import random\n",
    "import matplotlib.pyplot as plt\n",
    "\n",
    "\n",
    "def get_speed(age):\n",
    "    speed = 0\n",
    "    sigma = 0\n",
    "    if 20 <= age <= 50:\n",
    "        speed = 1.6 - 0.2/30*(age - 20)\n",
    "        sigma = 0.3 - 0.05/30*(age - 20)\n",
    "    elif 50 <= age <= 75:\n",
    "        speed = 1.4 - 0.45/25*(age - 50)\n",
    "        sigma = 0.25 - 0.05/25*(age - 50)\n",
    "    elif 75 <= age <= 80:\n",
    "        speed = 0.95 - 0.25/5*(age - 75)\n",
    "        sigma = 0.2 - 0.1/5*(age - 75)\n",
    "    return speed, sigma\n",
    "\n",
    "ages = []\n",
    "actual_speeds = []\n",
    "path_length = 10\n",
    "for i in range(50):\n",
    "    age = np.random.randint(20, 80)\n",
    "    mean, sigma = get_speed(age)\n",
    "    speed = np.random.normal(mean, sigma)\n",
    "    controller = PedestrianController(15, 5, [(1, 3)],  \n",
    "                                    [(1 + path_length, 3)], [], [], [speed], -1, True, True, True, end_on_reached_targets=True)\n",
    "    print(\"pedestrian of age\", age, \"and speed\", speed, \"is expected to take\", path_length/speed, \"seconds. Mean:\", path_length/mean)\n",
    "    controller.init_costs()\n",
    "    controller.run()\n",
    "    ages.append(age)\n",
    "    actual_speeds.append(path_length/(controller.finishing_times[0]))\n"
   ]
  },
  {
   "cell_type": "code",
   "execution_count": null,
   "metadata": {},
   "outputs": [],
   "source": [
    "plt.plot([20, 50, 75, 80], [1.9, 1.65, 1.1, 0.8])\n",
    "plt.plot([20, 50, 75, 80], [1.6, 1.4, 0.95, 0.7])\n",
    "plt.plot([20, 50, 75, 80], [1.3,  1.15, 0.75, 0.6])\n",
    "\n",
    "plt.scatter(ages, [s for s in actual_speeds])\n",
    "plt.plot()"
   ]
  }
 ],
 "metadata": {
  "interpreter": {
   "hash": "442967cb982b83b0d3e02c11ef8c3433153d79655becdc609ddbf1b34f6fa1e1"
  },
  "kernelspec": {
   "display_name": "Python 3 (ipykernel)",
   "language": "python",
   "name": "python3"
  },
  "language_info": {
   "codemirror_mode": {
    "name": "ipython",
    "version": 3
   },
   "file_extension": ".py",
   "mimetype": "text/x-python",
   "name": "python",
   "nbconvert_exporter": "python",
   "pygments_lexer": "ipython3",
   "version": "3.8.10"
  }
 },
 "nbformat": 4,
 "nbformat_minor": 4
}
