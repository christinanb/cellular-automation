{
 "cells": [
  {
   "cell_type": "markdown",
   "metadata": {},
   "source": [
    "### Import files"
   ]
  },
  {
   "cell_type": "code",
   "execution_count": 1,
   "metadata": {
    "scrolled": true
   },
   "outputs": [
    {
     "name": "stdout",
     "output_type": "stream",
     "text": [
      "pygame 2.0.1 (SDL 2.0.14, Python 3.8.5)\n",
      "Hello from the pygame community. https://www.pygame.org/contribute.html\n"
     ]
    }
   ],
   "source": [
    "from control import PedestrianController\n",
    "from run import *\n",
    "\n",
    "%load_ext autoreload\n",
    "%autoreload 2"
   ]
  },
  {
   "cell_type": "markdown",
   "metadata": {},
   "source": [
    "# Task 1"
   ]
  },
  {
   "cell_type": "code",
   "execution_count": 7,
   "metadata": {},
   "outputs": [],
   "source": [
    "runsim('./Test_Cases/task1.dat')"
   ]
  },
  {
   "cell_type": "markdown",
   "metadata": {},
   "source": [
    "# Task 2\n",
    "\n",
    "A pedestrian at (5, 25) walks towards a target at (25, 25).\n",
    "It performs 25 steps so in the mean-time reaching its target."
   ]
  },
  {
   "cell_type": "code",
   "execution_count": 8,
   "metadata": {},
   "outputs": [
    {
     "ename": "KeyboardInterrupt",
     "evalue": "",
     "output_type": "error",
     "traceback": [
      "\u001b[0;31m---------------------------------------------------------------------------\u001b[0m",
      "\u001b[0;31mKeyboardInterrupt\u001b[0m                         Traceback (most recent call last)",
      "\u001b[0;32m/var/folders/m2/wf10mp3s67770_jwfyhw7pcw0000gn/T/ipykernel_26994/1991307259.py\u001b[0m in \u001b[0;36m<module>\u001b[0;34m\u001b[0m\n\u001b[0;32m----> 1\u001b[0;31m \u001b[0mrunsim\u001b[0m\u001b[0;34m(\u001b[0m\u001b[0;34m'./Test_Cases/task2.dat'\u001b[0m\u001b[0;34m)\u001b[0m\u001b[0;34m\u001b[0m\u001b[0;34m\u001b[0m\u001b[0m\n\u001b[0m",
      "\u001b[0;32m~/Documents/study/21-WS/mlcms/MLCM21/run.py\u001b[0m in \u001b[0;36mrunsim\u001b[0;34m(filename)\u001b[0m\n\u001b[1;32m    113\u001b[0m                                     targets_loc, obstacles_loc, points_loc, speed, max_timesteps,devour, dijkstra, verbose_visualization, visualization)\n\u001b[1;32m    114\u001b[0m     \u001b[0mcontroller\u001b[0m\u001b[0;34m.\u001b[0m\u001b[0minit_costs\u001b[0m\u001b[0;34m(\u001b[0m\u001b[0;34m)\u001b[0m\u001b[0;34m\u001b[0m\u001b[0;34m\u001b[0m\u001b[0m\n\u001b[0;32m--> 115\u001b[0;31m     \u001b[0mcontroller\u001b[0m\u001b[0;34m.\u001b[0m\u001b[0mrun\u001b[0m\u001b[0;34m(\u001b[0m\u001b[0;34m)\u001b[0m\u001b[0;34m\u001b[0m\u001b[0;34m\u001b[0m\u001b[0m\n\u001b[0m\u001b[1;32m    116\u001b[0m \u001b[0;34m\u001b[0m\u001b[0m\n",
      "\u001b[0;32m~/Documents/study/21-WS/mlcms/MLCM21/control.py\u001b[0m in \u001b[0;36mrun\u001b[0;34m(self)\u001b[0m\n\u001b[1;32m     88\u001b[0m         \u001b[0;32mif\u001b[0m \u001b[0mself\u001b[0m\u001b[0;34m.\u001b[0m\u001b[0mvisualization\u001b[0m \u001b[0;32mis\u001b[0m \u001b[0;32mTrue\u001b[0m\u001b[0;34m:\u001b[0m\u001b[0;34m\u001b[0m\u001b[0;34m\u001b[0m\u001b[0m\n\u001b[1;32m     89\u001b[0m              \u001b[0;32mwhile\u001b[0m \u001b[0mself\u001b[0m\u001b[0;34m.\u001b[0m\u001b[0mfield_visual\u001b[0m\u001b[0;34m.\u001b[0m\u001b[0mis_running\u001b[0m\u001b[0;34m:\u001b[0m\u001b[0;34m\u001b[0m\u001b[0;34m\u001b[0m\u001b[0m\n\u001b[0;32m---> 90\u001b[0;31m                 \u001b[0mself\u001b[0m\u001b[0;34m.\u001b[0m\u001b[0m_update\u001b[0m\u001b[0;34m(\u001b[0m\u001b[0;34m)\u001b[0m\u001b[0;34m\u001b[0m\u001b[0;34m\u001b[0m\u001b[0m\n\u001b[0m\u001b[1;32m     91\u001b[0m         \u001b[0;32melse\u001b[0m \u001b[0;34m:\u001b[0m\u001b[0;34m\u001b[0m\u001b[0;34m\u001b[0m\u001b[0m\n\u001b[1;32m     92\u001b[0m             \u001b[0mprint\u001b[0m\u001b[0;34m(\u001b[0m\u001b[0;34m'simulation running with no visualization'\u001b[0m\u001b[0;34m)\u001b[0m\u001b[0;34m\u001b[0m\u001b[0;34m\u001b[0m\u001b[0m\n",
      "\u001b[0;32m~/Documents/study/21-WS/mlcms/MLCM21/control.py\u001b[0m in \u001b[0;36m_update\u001b[0;34m(self)\u001b[0m\n\u001b[1;32m    127\u001b[0m \u001b[0;34m\u001b[0m\u001b[0m\n\u001b[1;32m    128\u001b[0m         \u001b[0;32mif\u001b[0m \u001b[0mself\u001b[0m\u001b[0;34m.\u001b[0m\u001b[0mvisualization\u001b[0m \u001b[0;32mis\u001b[0m \u001b[0;32mTrue\u001b[0m\u001b[0;34m:\u001b[0m\u001b[0;34m\u001b[0m\u001b[0;34m\u001b[0m\u001b[0m\n\u001b[0;32m--> 129\u001b[0;31m             \u001b[0mself\u001b[0m\u001b[0;34m.\u001b[0m\u001b[0mfield_visual\u001b[0m\u001b[0;34m.\u001b[0m\u001b[0mdraw_update\u001b[0m\u001b[0;34m(\u001b[0m\u001b[0mself\u001b[0m\u001b[0;34m.\u001b[0m\u001b[0mfield\u001b[0m\u001b[0;34m,\u001b[0m \u001b[0mself\u001b[0m\u001b[0;34m.\u001b[0m\u001b[0mpedestrians\u001b[0m\u001b[0;34m,\u001b[0m \u001b[0mself\u001b[0m\u001b[0;34m.\u001b[0m\u001b[0mobstacles\u001b[0m\u001b[0;34m,\u001b[0m \u001b[0mself\u001b[0m\u001b[0;34m.\u001b[0m\u001b[0mtargets\u001b[0m\u001b[0;34m,\u001b[0m \u001b[0mself\u001b[0m\u001b[0;34m.\u001b[0m\u001b[0mpoints\u001b[0m\u001b[0;34m)\u001b[0m\u001b[0;34m\u001b[0m\u001b[0;34m\u001b[0m\u001b[0m\n\u001b[0m\u001b[1;32m    130\u001b[0m         \u001b[0;32mif\u001b[0m \u001b[0mlen\u001b[0m\u001b[0;34m(\u001b[0m\u001b[0mremove_pedestrians\u001b[0m\u001b[0;34m)\u001b[0m \u001b[0;34m>\u001b[0m \u001b[0mlen\u001b[0m\u001b[0;34m(\u001b[0m\u001b[0mself\u001b[0m\u001b[0;34m.\u001b[0m\u001b[0mpedestrians\u001b[0m\u001b[0;34m)\u001b[0m\u001b[0;34m:\u001b[0m\u001b[0;34m\u001b[0m\u001b[0;34m\u001b[0m\u001b[0m\n\u001b[1;32m    131\u001b[0m             \u001b[0mself\u001b[0m\u001b[0;34m.\u001b[0m\u001b[0msim_running\u001b[0m \u001b[0;34m=\u001b[0m \u001b[0;32mFalse\u001b[0m\u001b[0;34m\u001b[0m\u001b[0;34m\u001b[0m\u001b[0m\n",
      "\u001b[0;32m~/Documents/study/21-WS/mlcms/MLCM21/visual.py\u001b[0m in \u001b[0;36mdraw_update\u001b[0;34m(self, field, pedestrians, obstacles, targets, points)\u001b[0m\n\u001b[1;32m     43\u001b[0m                 \u001b[0mneighbor_y\u001b[0m \u001b[0;34m=\u001b[0m \u001b[0mc\u001b[0m\u001b[0;34m.\u001b[0m\u001b[0mloc\u001b[0m\u001b[0;34m[\u001b[0m\u001b[0;36m1\u001b[0m\u001b[0;34m]\u001b[0m\u001b[0;34m*\u001b[0m\u001b[0mself\u001b[0m\u001b[0;34m.\u001b[0m\u001b[0mbox_size\u001b[0m\u001b[0;34m\u001b[0m\u001b[0;34m\u001b[0m\u001b[0m\n\u001b[1;32m     44\u001b[0m                 \u001b[0mrect\u001b[0m \u001b[0;34m=\u001b[0m \u001b[0mpygame\u001b[0m\u001b[0;34m.\u001b[0m\u001b[0mRect\u001b[0m\u001b[0;34m(\u001b[0m\u001b[0mneighbor_x\u001b[0m\u001b[0;34m,\u001b[0m \u001b[0mneighbor_y\u001b[0m\u001b[0;34m,\u001b[0m \u001b[0mself\u001b[0m\u001b[0;34m.\u001b[0m\u001b[0mbox_size\u001b[0m\u001b[0;34m,\u001b[0m \u001b[0mself\u001b[0m\u001b[0;34m.\u001b[0m\u001b[0mbox_size\u001b[0m\u001b[0;34m)\u001b[0m\u001b[0;34m\u001b[0m\u001b[0;34m\u001b[0m\u001b[0m\n\u001b[0;32m---> 45\u001b[0;31m                 \u001b[0mpygame\u001b[0m\u001b[0;34m.\u001b[0m\u001b[0mdraw\u001b[0m\u001b[0;34m.\u001b[0m\u001b[0mrect\u001b[0m\u001b[0;34m(\u001b[0m\u001b[0mself\u001b[0m\u001b[0;34m.\u001b[0m\u001b[0mscreen\u001b[0m\u001b[0;34m,\u001b[0m \u001b[0;34m(\u001b[0m\u001b[0;36m0\u001b[0m\u001b[0;34m,\u001b[0m \u001b[0mmin\u001b[0m\u001b[0;34m(\u001b[0m\u001b[0;34m[\u001b[0m\u001b[0mint\u001b[0m\u001b[0;34m(\u001b[0m\u001b[0mc\u001b[0m\u001b[0;34m.\u001b[0m\u001b[0mstatic_cost\u001b[0m\u001b[0;34m*\u001b[0m\u001b[0;36m10\u001b[0m\u001b[0;34m)\u001b[0m\u001b[0;34m,\u001b[0m \u001b[0;36m255\u001b[0m\u001b[0;34m]\u001b[0m\u001b[0;34m)\u001b[0m\u001b[0;34m,\u001b[0m \u001b[0;36m200\u001b[0m\u001b[0;34m)\u001b[0m\u001b[0;34m,\u001b[0m \u001b[0mrect\u001b[0m\u001b[0;34m,\u001b[0m \u001b[0;36m0\u001b[0m\u001b[0;34m)\u001b[0m\u001b[0;34m\u001b[0m\u001b[0;34m\u001b[0m\u001b[0m\n\u001b[0m\u001b[1;32m     46\u001b[0m \u001b[0;34m\u001b[0m\u001b[0m\n\u001b[1;32m     47\u001b[0m         \u001b[0;32mfor\u001b[0m \u001b[0mp\u001b[0m \u001b[0;32min\u001b[0m \u001b[0mpedestrians\u001b[0m\u001b[0;34m:\u001b[0m\u001b[0;34m\u001b[0m\u001b[0;34m\u001b[0m\u001b[0m\n",
      "\u001b[0;31mKeyboardInterrupt\u001b[0m: "
     ]
    }
   ],
   "source": [
    "runsim('./Test_Cases/task2.dat')"
   ]
  },
  {
   "cell_type": "markdown",
   "metadata": {},
   "source": [
    "# Task 3\n",
    "\n",
    "5 pedestrians are located in a circle with radius 30m around the target.\n",
    "In case of non-absorbing targets, only one pedestrian claims the target while the others gather around."
   ]
  },
  {
   "cell_type": "code",
   "execution_count": null,
   "metadata": {},
   "outputs": [],
   "source": [
    "runsim('./Test_Cases/task3_without_devour.dat')"
   ]
  },
  {
   "cell_type": "markdown",
   "metadata": {},
   "source": [
    "In case of absorbing targets, all pedestrians eventually reach the target, one-by-one."
   ]
  },
  {
   "cell_type": "code",
   "execution_count": null,
   "metadata": {},
   "outputs": [],
   "source": [
    "runsim('./Test_Cases/task3_with_devour.dat')"
   ]
  },
  {
   "cell_type": "markdown",
   "metadata": {},
   "source": [
    "# Task 4\n",
    "\n",
    "When using the standard distance-based cost function, the pedestrians fail the chicken-test and get stuck in the cage."
   ]
  },
  {
   "cell_type": "code",
   "execution_count": null,
   "metadata": {},
   "outputs": [],
   "source": [
    "runsim('./Test_Cases/task4_standard.dat')"
   ]
  },
  {
   "cell_type": "markdown",
   "metadata": {},
   "source": [
    "The dijkstra-algorithm solves this ptoblem. All pedestrians avoid the obstacle and reach their target.\n",
    "This is visualized by the overlayed cost-function flowing around the obstacle."
   ]
  },
  {
   "cell_type": "code",
   "execution_count": null,
   "metadata": {},
   "outputs": [],
   "source": [
    "runsim('./Test_Cases/task4_dijkstra.dat')"
   ]
  },
  {
   "cell_type": "markdown",
   "metadata": {},
   "source": [
    "The corridor example for this task has been implemented as code instead of file since there are multiple obstacles."
   ]
  },
  {
   "cell_type": "code",
   "execution_count": null,
   "metadata": {},
   "outputs": [],
   "source": [
    "in_val = input('Implement dijkstra? y/n:')\n",
    "if in_val == 'y':\n",
    "    dijkstra = True\n",
    "elif in_val == 'n':\n",
    "    dijkstra = False\n",
    "else:\n",
    "    print(\"ERROR: Invalid value. Write 'y' or 'n'\")\n",
    "    exit()\n",
    "\n",
    "pedestrian_loc = [(5, 23), (3, 27), (7, 32)]\n",
    "\n",
    "obstacles_loc = [(x, 20) for x in range(0, 20)] + [(x, 35) for x in range(0, 20)] + [(20, y) for y in range(20, 26)] + [(20, y) for y in range(30, 36)] + [(x, 20) for x in range(30, 50)] + [(x, 35) for x in range(30, 50)] + [(30, y) for y in range(20, 26)] + [(30, y) for y in range(30, 36)] + [(x, 30) for x in range(20, 30)] + [(x, 28) for x in range(20, 30)] + [(x, 25) for x in range(20, 30)] + [(29,29)]\n",
    "\n",
    "targets_loc = [(40, 28)]\n",
    "\n",
    "controller = PedestrianController(50, 50, pedestrian_loc,  \n",
    "                                    targets_loc, obstacles_loc, None, [1.3], 100, True, dijkstra, True, True)\n",
    "controller.init_costs()\n",
    "controller.run()"
   ]
  },
  {
   "cell_type": "markdown",
   "metadata": {},
   "source": [
    "# Task 5\n",
    "## Test 1: RiMEA scenario 1"
   ]
  },
  {
   "cell_type": "code",
   "execution_count": null,
   "metadata": {},
   "outputs": [
    {
     "ename": "SystemExit",
     "evalue": "",
     "output_type": "error",
     "traceback": [
      "An exception has occurred, use %tb to see the full traceback.\n",
      "\u001b[1;31mSystemExit\u001b[0m\n"
     ]
    },
    {
     "name": "stderr",
     "output_type": "stream",
     "text": [
      "C:\\Users\\Laptop\\AppData\\Local\\Programs\\Python\\Python37\\lib\\site-packages\\IPython\\core\\interactiveshell.py:3452: UserWarning: To exit: use 'exit', 'quit', or Ctrl-D.\n",
      "  warn(\"To exit: use 'exit', 'quit', or Ctrl-D.\", stacklevel=1)\n"
     ]
    },
    {
     "data": {
      "text/plain": [
       "Text(0.5, 1.0, 'Expected')"
      ]
     },
     "execution_count": 51,
     "metadata": {},
     "output_type": "execute_result"
    },
    {
     "data": {
      "image/png": "[encoded data removed]",
      "text/plain": [
       "<Figure size 432x288 with 1 Axes>"
      ]
     },
     "metadata": {
      "needs_background": "light"
     },
     "output_type": "display_data"
    },
    {
     "data": {
      "image/png": "[encoded data removed]",
      "text/plain": [
       "<Figure size 432x288 with 1 Axes>"
      ]
     },
     "metadata": {
      "needs_background": "light"
     },
     "output_type": "display_data"
    }
   ],
   "source": [
    "from numpy.random import default_rng\n",
    "import random\n",
    "import seaborn as sns\n",
    "import matplotlib.pyplot as plt\n",
    "\n",
    "times=[]\n",
    "speeds=[]\n",
    "times_expected=[]\n",
    "hallway_distance =41\n",
    "\n",
    "#Run a series of simulations and record the time pedestrian takes to reach target \n",
    "#starting with a speed between 1.2 and 1.4 m/s\n",
    "for i in range (0,15):\n",
    "\n",
    "    width = 50\n",
    "    height = 8\n",
    "    \n",
    "    ped_start = random.randint(3, 4)\n",
    "    pedestrian_loc = [(2, 3)]\n",
    "\n",
    "    obstacles_loc = [(x, 2) for x in range(1, hallway_distance)] + [(x, 5) for x in range(1, hallway_distance)]\n",
    "\n",
    "    targets_loc = [(hallway_distance-1, y) for y in range(3, 5)]\n",
    "\n",
    "    speed = []\n",
    "    num = random.uniform(1.2, 1.4)\n",
    "    speed.append(num)\n",
    "    speeds.append(num)\n",
    "    \n",
    "    #Create expected value for speed and time    \n",
    "    times_expected.append((hallway_distance-3)/num)\n",
    "\n",
    "    points = None\n",
    "\n",
    "    controller = PedestrianController(width, height, pedestrian_loc,  \n",
    "                                    targets_loc, obstacles_loc, points, speed, 10000, True, True, True,False,True)\n",
    "\n",
    "    controller.init_costs()\n",
    "    controller.run()\n",
    "    times.extend(controller.finishing_times)\n",
    " \n",
    "#Running the 1.33 m/s verification run and add to the rest of the collected data\n",
    "\n",
    "controller = PedestrianController(width, height, pedestrian_loc,  \n",
    "                                    targets_loc, obstacles_loc, points, [1.33], 10000, True, True, True,False,True)\n",
    "speeds.append(1.33)\n",
    "\n",
    "#Create expected values for speed and time \n",
    "times_expected.append((hallway_distance-3)/1.33)\n",
    "\n",
    "controller.init_costs()\n",
    "controller.run()\n",
    "times.extend(controller.finishing_times)\n",
    "\n",
    "\n",
    "\n",
    "#Create a plot to analyze results wiht 75% confidence interval\n",
    "plt.figure(1)\n",
    "sns.regplot(speeds, times, ci=75)\n",
    "plt.ylim(27, 32)\n",
    "plt.xlim(1.21, 1.39)\n",
    "#naming the x axis\n",
    "plt.xlabel('Walking Speed (m/s)')\n",
    "# naming the y axis\n",
    "plt.ylabel('Target Arrival Time (s)') \n",
    "#Plot Title\n",
    "plt.title(\"Experimental\")\n",
    "\n",
    "\n",
    "\n",
    "#plotting the expected values\n",
    "plt.figure(2)\n",
    "sns.regplot(speeds, times_expected,ci= None, scatter_kws={\"color\": \"green\"},line_kws={\"color\": \"green\",\"linewidth\":1,\"linestyle\":'dashed'})\n",
    "plt.ylim(27, 32)\n",
    "plt.xlim(1.21, 1.39)\n",
    "\n",
    "#naming the x axis\n",
    "plt.xlabel('Walking Speed (m/s)')\n",
    "# naming the y axis\n",
    "plt.ylabel('Target Arrival Time (s)')  \n",
    "#Plot Title\n",
    "plt.title(\"Expected\")"
   ]
  },
  {
   "cell_type": "markdown",
   "metadata": {},
   "source": [
    "## Test 2: RiMEA scenario 4"
   ]
  },
  {
   "cell_type": "code",
   "execution_count": 94,
   "metadata": {},
   "outputs": [
    {
     "name": "stdout",
     "output_type": "stream",
     "text": [
      "[[13.493810316000587, 0.32894736842105265], [13.55561990650726, 0.3157894736842105], [12.927485729247364, 0.3026315789473684], [12.881005517793325, 0.2894736842105263], [12.312177678207249, 0.27631578947368424], [11.955796972557819, 0.2631578947368421], [12.676831475191827, 0.25], [13.042602435624309, 0.23684210526315788], [12.066222477363448, 0.2236842105263158], [13.288972378113248, 0.21052631578947367], [13.407663647390578, 0.19736842105263158], [11.944937090713001, 0.18421052631578946], [8.03483040006973, 0.17105263157894737], [12.702094482318143, 0.15789473684210525], [13.318747493389534, 0.14473684210526316], [8.33926042642662, 0.13157894736842105], [6.137919473669847, 0.11842105263157894], [10.406959801254873, 0.10526315789473684], [11.302205926141099, 0.09210526315789473], [5.38429791161123, 0.07894736842105263], [7.194263188204939, 0.06578947368421052]]\n"
     ]
    },
    {
     "ename": "TypeError",
     "evalue": "'numpy.float64' object cannot be interpreted as an integer",
     "output_type": "error",
     "traceback": [
      "\u001b[1;31m---------------------------------------------------------------------------\u001b[0m",
      "\u001b[1;31mTypeError\u001b[0m                                 Traceback (most recent call last)",
      "\u001b[1;32m~\\AppData\\Local\\Temp/ipykernel_12872/1252691030.py\u001b[0m in \u001b[0;36m<module>\u001b[1;34m\u001b[0m\n\u001b[0;32m     40\u001b[0m \u001b[0mmymodel\u001b[0m \u001b[1;33m=\u001b[0m \u001b[0mnumpy\u001b[0m\u001b[1;33m.\u001b[0m\u001b[0mpoly1d\u001b[0m\u001b[1;33m(\u001b[0m\u001b[0mnumpy\u001b[0m\u001b[1;33m.\u001b[0m\u001b[0mpolyfit\u001b[0m\u001b[1;33m(\u001b[0m\u001b[0mx_coor\u001b[0m\u001b[1;33m,\u001b[0m \u001b[0my_coor\u001b[0m\u001b[1;33m,\u001b[0m \u001b[1;36m3\u001b[0m\u001b[1;33m)\u001b[0m\u001b[1;33m)\u001b[0m\u001b[1;33m\u001b[0m\u001b[1;33m\u001b[0m\u001b[0m\n\u001b[0;32m     41\u001b[0m \u001b[1;33m\u001b[0m\u001b[0m\n\u001b[1;32m---> 42\u001b[1;33m \u001b[0mmyline\u001b[0m \u001b[1;33m=\u001b[0m \u001b[0mnumpy\u001b[0m\u001b[1;33m.\u001b[0m\u001b[0mlinspace\u001b[0m\u001b[1;33m(\u001b[0m\u001b[0mmin\u001b[0m\u001b[1;33m(\u001b[0m\u001b[0mx_coor\u001b[0m\u001b[1;33m)\u001b[0m\u001b[1;33m,\u001b[0m \u001b[0mmax\u001b[0m\u001b[1;33m(\u001b[0m\u001b[0mx_coor\u001b[0m\u001b[1;33m)\u001b[0m\u001b[1;33m,\u001b[0m \u001b[0mmax\u001b[0m\u001b[1;33m(\u001b[0m\u001b[0my_coor\u001b[0m\u001b[1;33m)\u001b[0m\u001b[1;33m)\u001b[0m\u001b[1;33m\u001b[0m\u001b[1;33m\u001b[0m\u001b[0m\n\u001b[0m\u001b[0;32m     43\u001b[0m \u001b[0mplt\u001b[0m\u001b[1;33m.\u001b[0m\u001b[0mplot\u001b[0m\u001b[1;33m(\u001b[0m\u001b[0mmyline\u001b[0m\u001b[1;33m,\u001b[0m \u001b[0mmymodel\u001b[0m\u001b[1;33m(\u001b[0m\u001b[0mmyline\u001b[0m\u001b[1;33m)\u001b[0m\u001b[1;33m)\u001b[0m\u001b[1;33m\u001b[0m\u001b[1;33m\u001b[0m\u001b[0m\n\u001b[0;32m     44\u001b[0m \u001b[0mplt\u001b[0m\u001b[1;33m.\u001b[0m\u001b[0mxlabel\u001b[0m\u001b[1;33m(\u001b[0m\u001b[1;34m'Speed'\u001b[0m\u001b[1;33m)\u001b[0m\u001b[1;33m\u001b[0m\u001b[1;33m\u001b[0m\u001b[0m\n",
      "\u001b[1;32m<__array_function__ internals>\u001b[0m in \u001b[0;36mlinspace\u001b[1;34m(*args, **kwargs)\u001b[0m\n",
      "\u001b[1;32m~\\AppData\\Local\\Programs\\Python\\Python37\\lib\\site-packages\\numpy\\core\\function_base.py\u001b[0m in \u001b[0;36mlinspace\u001b[1;34m(start, stop, num, endpoint, retstep, dtype, axis)\u001b[0m\n\u001b[0;32m    118\u001b[0m \u001b[1;33m\u001b[0m\u001b[0m\n\u001b[0;32m    119\u001b[0m     \"\"\"\n\u001b[1;32m--> 120\u001b[1;33m     \u001b[0mnum\u001b[0m \u001b[1;33m=\u001b[0m \u001b[0moperator\u001b[0m\u001b[1;33m.\u001b[0m\u001b[0mindex\u001b[0m\u001b[1;33m(\u001b[0m\u001b[0mnum\u001b[0m\u001b[1;33m)\u001b[0m\u001b[1;33m\u001b[0m\u001b[1;33m\u001b[0m\u001b[0m\n\u001b[0m\u001b[0;32m    121\u001b[0m     \u001b[1;32mif\u001b[0m \u001b[0mnum\u001b[0m \u001b[1;33m<\u001b[0m \u001b[1;36m0\u001b[0m\u001b[1;33m:\u001b[0m\u001b[1;33m\u001b[0m\u001b[1;33m\u001b[0m\u001b[0m\n\u001b[0;32m    122\u001b[0m         \u001b[1;32mraise\u001b[0m \u001b[0mValueError\u001b[0m\u001b[1;33m(\u001b[0m\u001b[1;34m\"Number of samples, %s, must be non-negative.\"\u001b[0m \u001b[1;33m%\u001b[0m \u001b[0mnum\u001b[0m\u001b[1;33m)\u001b[0m\u001b[1;33m\u001b[0m\u001b[1;33m\u001b[0m\u001b[0m\n",
      "\u001b[1;31mTypeError\u001b[0m: 'numpy.float64' object cannot be interpreted as an integer"
     ]
    },
    {
     "data": {
      "image/png": "[encoded data removed]",
      "text/plain": [
       "<Figure size 432x288 with 1 Axes>"
      ]
     },
     "metadata": {
      "needs_background": "light"
     },
     "output_type": "display_data"
    }
   ],
   "source": [
    "from numpy.random import default_rng\n",
    "import random\n",
    "import matplotlib.pyplot as plt\n",
    "import numpy\n",
    "\n",
    "rng = default_rng()\n",
    "size_pedestrians = 25\n",
    "pedestrian_loc = rng.choice([(x, y) for x in range(50, 65) for y in range(3, 8)], size=size_pedestrians, replace=False)\n",
    "\n",
    "obstacles_loc = [(x, 2) for x in range(1, 148)] + [(x, 8) for x in range(1, 148)]\n",
    "\n",
    "targets_loc = [(148, y) for y in range(4, 6)]\n",
    "\n",
    "speed = []\n",
    "for i in range(0, size_pedestrians):\n",
    "    num = random.uniform(0.6, 0.7)\n",
    "    speed.append(num)\n",
    "\n",
    "points = [(75, 5), (75, 6), (68, 5)]\n",
    "\n",
    "areas = [[(1, 7), (25, 3)], [(26, 7), (45, 3)], [(46, 7), (65, 3)], [(66, 7), (85, 3)], [(86, 7), (105, 3)], [(106, 7), (125, 3)], [(126, 7), (146, 3)]]\n",
    "\n",
    "controller = PedestrianController(150, 11, pedestrian_loc, \n",
    "                                    targets_loc, obstacles_loc, points, speed, 10000, True, True, True, True)\n",
    "controller.set_areas(areas)\n",
    "\n",
    "controller.init_costs()\n",
    "controller.run()\n",
    "\n",
    "x_coor = []\n",
    "y_coor = []\n",
    "for coordinate in controller.get_coordinates():\n",
    "    if coordinate:\n",
    "        for x, y in coordinate:\n",
    "            plt.plot(x, y,'o')\n",
    "            x_coor.append(x)\n",
    "            y_coor.append(y)\n",
    "        print(coordinate)\n",
    "\"\"\"\n",
    "mymodel = numpy.poly1d(numpy.polyfit(x_coor, y_coor, 3))\n",
    "myline = numpy.linspace(min(x_coor), max(x_coor), max(y_coor))\n",
    "plt.plot(myline, mymodel(myline))\n",
    "\"\"\"\n",
    "plt.xlabel('Speed')\n",
    "plt.ylabel('Density')\n",
    "plt.show()\n"
   ]
  },
  {
   "cell_type": "markdown",
   "metadata": {},
   "source": [
    "## Test 3: RiMEA scenario 6\n"
   ]
  },
  {
   "cell_type": "code",
   "execution_count": null,
   "metadata": {},
   "outputs": [],
   "source": [
    "from numpy.random import default_rng\n",
    "\n",
    "rng = default_rng()\n",
    "pedestrian_loc = rng.choice([(x, y) for x in range(1, 21) for y in range(11, 13)], size=20, replace=False)\n",
    "\n",
    "obstacles_loc = [(x, 10) for x in range(1, 25)] + [(x, 13) for x in range(1, 28)] + [(25, y) for y in range(1, 11)] + [(28, y) for y in range(1, 14)]\n",
    "\n",
    "targets_loc = [(x, 1) for x in range(26, 28)]\n",
    "\n",
    "controller = PedestrianController(30, 15, pedestrian_loc,  \n",
    "                                    targets_loc, obstacles_loc, None, [1.3], 10000, True, True, True)\n",
    "controller.init_costs()\n",
    "controller.run()"
   ]
  },
  {
   "cell_type": "markdown",
   "metadata": {},
   "source": [
    "## Test 4: RiMEA scenario 7"
   ]
  },
  {
   "cell_type": "code",
   "execution_count": null,
   "metadata": {},
   "outputs": [],
   "source": [
    "from numpy.random import default_rng\n",
    "import random\n",
    "import matplotlib.pyplot as plt\n",
    "\n",
    "\n",
    "def get_speed(age):\n",
    "    speed = 0\n",
    "    sigma = 0\n",
    "    if 20 <= age <= 50:\n",
    "        speed = 1.6 - 0.2/30*(age - 20)\n",
    "        sigma = 0.3 - 0.05/30*(age - 20)\n",
    "    elif 50 <= age <= 75:\n",
    "        speed = 1.4 - 0.45/25*(age - 50)\n",
    "        sigma = 0.25 - 0.05/25*(age - 50)\n",
    "    elif 75 <= age <= 80:\n",
    "        speed = 0.95 - 0.25/5*(age - 75)\n",
    "        sigma = 0.2 - 0.1/5*(age - 75)\n",
    "    return speed, sigma\n",
    "\n",
    "ages = []\n",
    "actual_speeds = []\n",
    "path_length = 10\n",
    "for i in range(50):\n",
    "    age = np.random.randint(20, 80)\n",
    "    mean, sigma = get_speed(age)\n",
    "    speed = np.random.normal(mean, sigma)\n",
    "    controller = PedestrianController(15, 5, [(1, 3)],  \n",
    "                                    [(1 + path_length, 3)], [], [], [speed], -1, True, True, True, end_on_reached_targets=True)\n",
    "    print(\"pedestrian of age\", age, \"and speed\", speed, \"is expected to take\", path_length/speed, \"seconds. Mean:\", path_length/mean)\n",
    "    controller.init_costs()\n",
    "    controller.run()\n",
    "    ages.append(age)\n",
    "    actual_speeds.append(path_length/(controller.finishing_times[0]))\n"
   ]
  },
  {
   "cell_type": "code",
   "execution_count": null,
   "metadata": {},
   "outputs": [],
   "source": [
    "plt.plot([20, 50, 75, 80], [1.9, 1.65, 1.1, 0.8])\n",
    "plt.plot([20, 50, 75, 80], [1.6, 1.4, 0.95, 0.7])\n",
    "plt.plot([20, 50, 75, 80], [1.3,  1.15, 0.75, 0.6])\n",
    "\n",
    "plt.scatter(ages, [s for s in actual_speeds])\n",
    "plt.plot()"
   ]
  }
 ],
 "metadata": {
  "interpreter": {
   "hash": "aee8b7b246df8f9039afb4144a1f6fd8d2ca17a180786b69acc140d282b71a49"
  },
  "kernelspec": {
   "codemirror_mode": {
    "version": 3
   },
   "file_extension": ".py",
   "mimetype": "text/x-python",
   "name": "python",
   "nbconvert_exporter": "python",
   "pygments_lexer": "ipython3",
   "version": "3.8.5"
  }
 },
 "nbformat": 4,
 "nbformat_minor": 4
}
