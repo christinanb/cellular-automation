{
 "cells": [
  {
   "cell_type": "markdown",
   "metadata": {},
   "source": [
    "### Import files"
   ]
  },
  {
   "cell_type": "code",
   "execution_count": 11,
   "metadata": {
    "scrolled": true
   },
   "outputs": [
    {
     "name": "stdout",
     "output_type": "stream",
     "text": [
      "The autoreload extension is already loaded. To reload it, use:\n",
      "  %reload_ext autoreload\n"
     ]
    }
   ],
   "source": [
    "from control import PedestrianController\n",
    "from run import *\n",
    "\n",
    "%load_ext autoreload\n",
    "%autoreload 2"
   ]
  },
  {
   "cell_type": "markdown",
   "metadata": {},
   "source": [
    "# Task 1"
   ]
  },
  {
   "cell_type": "code",
   "execution_count": 12,
   "metadata": {},
   "outputs": [
    {
     "name": "stdout",
     "output_type": "stream",
     "text": [
      "Elapsed time: 20.142826080322266 s for pedestrian # 1\n",
      "Elapsed time: 22.159682035446167 s for pedestrian # 2\n",
      "Elapsed time: 22.820273876190186 s for pedestrian # 0\n"
     ]
    }
   ],
   "source": [
    "runsim('./Test_Cases/task1.dat')"
   ]
  },
  {
   "cell_type": "markdown",
   "metadata": {},
   "source": [
    "# Task 2\n",
    "\n",
    "A pedestrian at (5, 25) walks towards a target at (25, 25).\n",
    "It performs 25 steps so in the mean-time reaching its target."
   ]
  },
  {
   "cell_type": "code",
   "execution_count": 13,
   "metadata": {},
   "outputs": [
    {
     "name": "stdout",
     "output_type": "stream",
     "text": [
      "Elapsed time: 15.651465892791748 s for pedestrian # 0\n"
     ]
    }
   ],
   "source": [
    "runsim('./Test_Cases/task2.dat')"
   ]
  },
  {
   "cell_type": "markdown",
   "metadata": {},
   "source": [
    "# Task 3\n",
    "\n",
    "5 pedestrians are located in a circle with radius 30m around the target.\n",
    "In case of non-absorbing targets, only one pedestrian claims the target while the others gather around."
   ]
  },
  {
   "cell_type": "code",
   "execution_count": 18,
   "metadata": {},
   "outputs": [
    {
     "name": "stdout",
     "output_type": "stream",
     "text": [
      "Elapsed time: 23.33064603805542 s for pedestrian # 4\n"
     ]
    }
   ],
   "source": [
    "runsim('./Test_Cases/task3_without_devour.dat')"
   ]
  },
  {
   "cell_type": "markdown",
   "metadata": {},
   "source": [
    "In case of absorbing targets, all pedestrians eventually reach the target, one-by-one."
   ]
  },
  {
   "cell_type": "code",
   "execution_count": 17,
   "metadata": {},
   "outputs": [
    {
     "name": "stdout",
     "output_type": "stream",
     "text": [
      "Elapsed time: 23.44320797920227 s for pedestrian # 4\n",
      "Elapsed time: 24.05697727203369 s for pedestrian # 2\n",
      "Elapsed time: 24.756392002105713 s for pedestrian # 0\n",
      "Elapsed time: 25.53903579711914 s for pedestrian # 3\n",
      "Elapsed time: 26.339354991912842 s for pedestrian # 1\n"
     ]
    }
   ],
   "source": [
    "runsim('./Test_Cases/task3_with_devour.dat')"
   ]
  },
  {
   "cell_type": "markdown",
   "metadata": {},
   "source": [
    "# Task 4\n",
    "\n",
    "When using the standard distance-based cost function, the pedestrians fail the chicken-test and get stuck in the cage."
   ]
  },
  {
   "cell_type": "code",
   "execution_count": 19,
   "metadata": {},
   "outputs": [],
   "source": [
    "runsim('./Test_Cases/task4_standard.dat')"
   ]
  },
  {
   "cell_type": "markdown",
   "metadata": {},
   "source": [
    "The dijkstra-algorithm solves this ptoblem. All pedestrians avoid the obstacle and reach their target.\n",
    "This is visualized by the overlayed cost-function flowing around the obstacle."
   ]
  },
  {
   "cell_type": "code",
   "execution_count": 20,
   "metadata": {},
   "outputs": [
    {
     "name": "stdout",
     "output_type": "stream",
     "text": [
      "Elapsed time: 19.19040298461914 s for pedestrian # 0\n",
      "Elapsed time: 21.56016206741333 s for pedestrian # 2\n",
      "Elapsed time: 22.015694856643677 s for pedestrian # 1\n"
     ]
    }
   ],
   "source": [
    "runsim('./Test_Cases/task4_dijkstra.dat')"
   ]
  },
  {
   "cell_type": "markdown",
   "metadata": {},
   "source": [
    "The corridor example for this task has been implemented as code instead of file since there are multiple obstacles."
   ]
  },
  {
   "cell_type": "code",
   "execution_count": 27,
   "metadata": {},
   "outputs": [
    {
     "ename": "KeyboardInterrupt",
     "evalue": "",
     "output_type": "error",
     "traceback": [
      "\u001b[0;31m---------------------------------------------------------------------------\u001b[0m",
      "\u001b[0;31mKeyboardInterrupt\u001b[0m                         Traceback (most recent call last)",
      "\u001b[0;32m/var/folders/m2/wf10mp3s67770_jwfyhw7pcw0000gn/T/ipykernel_28949/2157853597.py\u001b[0m in \u001b[0;36m<module>\u001b[0;34m\u001b[0m\n\u001b[1;32m     17\u001b[0m                                     targets_loc, obstacles_loc, None, [1.3], 100, True, dijkstra, True, True)\n\u001b[1;32m     18\u001b[0m \u001b[0mcontroller\u001b[0m\u001b[0;34m.\u001b[0m\u001b[0minit_costs\u001b[0m\u001b[0;34m(\u001b[0m\u001b[0;34m)\u001b[0m\u001b[0;34m\u001b[0m\u001b[0;34m\u001b[0m\u001b[0m\n\u001b[0;32m---> 19\u001b[0;31m \u001b[0mcontroller\u001b[0m\u001b[0;34m.\u001b[0m\u001b[0mrun\u001b[0m\u001b[0;34m(\u001b[0m\u001b[0;34m)\u001b[0m\u001b[0;34m\u001b[0m\u001b[0;34m\u001b[0m\u001b[0m\n\u001b[0m",
      "\u001b[0;32m~/Documents/study/21-WS/mlcms/MLCM21/control.py\u001b[0m in \u001b[0;36mrun\u001b[0;34m(self)\u001b[0m\n\u001b[1;32m     88\u001b[0m         \u001b[0;32mif\u001b[0m \u001b[0mself\u001b[0m\u001b[0;34m.\u001b[0m\u001b[0mvisualization\u001b[0m \u001b[0;32mis\u001b[0m \u001b[0;32mTrue\u001b[0m\u001b[0;34m:\u001b[0m\u001b[0;34m\u001b[0m\u001b[0;34m\u001b[0m\u001b[0m\n\u001b[1;32m     89\u001b[0m              \u001b[0;32mwhile\u001b[0m \u001b[0mself\u001b[0m\u001b[0;34m.\u001b[0m\u001b[0mfield_visual\u001b[0m\u001b[0;34m.\u001b[0m\u001b[0mis_running\u001b[0m\u001b[0;34m:\u001b[0m\u001b[0;34m\u001b[0m\u001b[0;34m\u001b[0m\u001b[0m\n\u001b[0;32m---> 90\u001b[0;31m                 \u001b[0mself\u001b[0m\u001b[0;34m.\u001b[0m\u001b[0m_update\u001b[0m\u001b[0;34m(\u001b[0m\u001b[0;34m)\u001b[0m\u001b[0;34m\u001b[0m\u001b[0;34m\u001b[0m\u001b[0m\n\u001b[0m\u001b[1;32m     91\u001b[0m         \u001b[0;32melse\u001b[0m \u001b[0;34m:\u001b[0m\u001b[0;34m\u001b[0m\u001b[0;34m\u001b[0m\u001b[0m\n\u001b[1;32m     92\u001b[0m             \u001b[0mprint\u001b[0m\u001b[0;34m(\u001b[0m\u001b[0;34m'simulation running with no visualization'\u001b[0m\u001b[0;34m)\u001b[0m\u001b[0;34m\u001b[0m\u001b[0;34m\u001b[0m\u001b[0m\n",
      "\u001b[0;32m~/Documents/study/21-WS/mlcms/MLCM21/control.py\u001b[0m in \u001b[0;36m_update\u001b[0;34m(self)\u001b[0m\n\u001b[1;32m    127\u001b[0m \u001b[0;34m\u001b[0m\u001b[0m\n\u001b[1;32m    128\u001b[0m         \u001b[0;32mif\u001b[0m \u001b[0mself\u001b[0m\u001b[0;34m.\u001b[0m\u001b[0mvisualization\u001b[0m \u001b[0;32mis\u001b[0m \u001b[0;32mTrue\u001b[0m\u001b[0;34m:\u001b[0m\u001b[0;34m\u001b[0m\u001b[0;34m\u001b[0m\u001b[0m\n\u001b[0;32m--> 129\u001b[0;31m             \u001b[0mself\u001b[0m\u001b[0;34m.\u001b[0m\u001b[0mfield_visual\u001b[0m\u001b[0;34m.\u001b[0m\u001b[0mdraw_update\u001b[0m\u001b[0;34m(\u001b[0m\u001b[0mself\u001b[0m\u001b[0;34m.\u001b[0m\u001b[0mfield\u001b[0m\u001b[0;34m,\u001b[0m \u001b[0mself\u001b[0m\u001b[0;34m.\u001b[0m\u001b[0mpedestrians\u001b[0m\u001b[0;34m,\u001b[0m \u001b[0mself\u001b[0m\u001b[0;34m.\u001b[0m\u001b[0mobstacles\u001b[0m\u001b[0;34m,\u001b[0m \u001b[0mself\u001b[0m\u001b[0;34m.\u001b[0m\u001b[0mtargets\u001b[0m\u001b[0;34m,\u001b[0m \u001b[0mself\u001b[0m\u001b[0;34m.\u001b[0m\u001b[0mpoints\u001b[0m\u001b[0;34m)\u001b[0m\u001b[0;34m\u001b[0m\u001b[0;34m\u001b[0m\u001b[0m\n\u001b[0m\u001b[1;32m    130\u001b[0m         \u001b[0;32mif\u001b[0m \u001b[0mlen\u001b[0m\u001b[0;34m(\u001b[0m\u001b[0mremove_pedestrians\u001b[0m\u001b[0;34m)\u001b[0m \u001b[0;34m>\u001b[0m \u001b[0mlen\u001b[0m\u001b[0;34m(\u001b[0m\u001b[0mself\u001b[0m\u001b[0;34m.\u001b[0m\u001b[0mpedestrians\u001b[0m\u001b[0;34m)\u001b[0m\u001b[0;34m:\u001b[0m\u001b[0;34m\u001b[0m\u001b[0;34m\u001b[0m\u001b[0m\n\u001b[1;32m    131\u001b[0m             \u001b[0mself\u001b[0m\u001b[0;34m.\u001b[0m\u001b[0msim_running\u001b[0m \u001b[0;34m=\u001b[0m \u001b[0;32mFalse\u001b[0m\u001b[0;34m\u001b[0m\u001b[0;34m\u001b[0m\u001b[0m\n",
      "\u001b[0;32m~/Documents/study/21-WS/mlcms/MLCM21/visual.py\u001b[0m in \u001b[0;36mdraw_update\u001b[0;34m(self, field, pedestrians, obstacles, targets, points)\u001b[0m\n\u001b[1;32m     43\u001b[0m                 \u001b[0mneighbor_y\u001b[0m \u001b[0;34m=\u001b[0m \u001b[0mc\u001b[0m\u001b[0;34m.\u001b[0m\u001b[0mloc\u001b[0m\u001b[0;34m[\u001b[0m\u001b[0;36m1\u001b[0m\u001b[0;34m]\u001b[0m\u001b[0;34m*\u001b[0m\u001b[0mself\u001b[0m\u001b[0;34m.\u001b[0m\u001b[0mbox_size\u001b[0m\u001b[0;34m\u001b[0m\u001b[0;34m\u001b[0m\u001b[0m\n\u001b[1;32m     44\u001b[0m                 \u001b[0mrect\u001b[0m \u001b[0;34m=\u001b[0m \u001b[0mpygame\u001b[0m\u001b[0;34m.\u001b[0m\u001b[0mRect\u001b[0m\u001b[0;34m(\u001b[0m\u001b[0mneighbor_x\u001b[0m\u001b[0;34m,\u001b[0m \u001b[0mneighbor_y\u001b[0m\u001b[0;34m,\u001b[0m \u001b[0mself\u001b[0m\u001b[0;34m.\u001b[0m\u001b[0mbox_size\u001b[0m\u001b[0;34m,\u001b[0m \u001b[0mself\u001b[0m\u001b[0;34m.\u001b[0m\u001b[0mbox_size\u001b[0m\u001b[0;34m)\u001b[0m\u001b[0;34m\u001b[0m\u001b[0;34m\u001b[0m\u001b[0m\n\u001b[0;32m---> 45\u001b[0;31m                 \u001b[0mpygame\u001b[0m\u001b[0;34m.\u001b[0m\u001b[0mdraw\u001b[0m\u001b[0;34m.\u001b[0m\u001b[0mrect\u001b[0m\u001b[0;34m(\u001b[0m\u001b[0mself\u001b[0m\u001b[0;34m.\u001b[0m\u001b[0mscreen\u001b[0m\u001b[0;34m,\u001b[0m \u001b[0;34m(\u001b[0m\u001b[0;36m0\u001b[0m\u001b[0;34m,\u001b[0m \u001b[0mmin\u001b[0m\u001b[0;34m(\u001b[0m\u001b[0;34m[\u001b[0m\u001b[0mint\u001b[0m\u001b[0;34m(\u001b[0m\u001b[0mc\u001b[0m\u001b[0;34m.\u001b[0m\u001b[0mstatic_cost\u001b[0m\u001b[0;34m*\u001b[0m\u001b[0;36m10\u001b[0m\u001b[0;34m)\u001b[0m\u001b[0;34m,\u001b[0m \u001b[0;36m255\u001b[0m\u001b[0;34m]\u001b[0m\u001b[0;34m)\u001b[0m\u001b[0;34m,\u001b[0m \u001b[0;36m200\u001b[0m\u001b[0;34m)\u001b[0m\u001b[0;34m,\u001b[0m \u001b[0mrect\u001b[0m\u001b[0;34m,\u001b[0m \u001b[0;36m0\u001b[0m\u001b[0;34m)\u001b[0m\u001b[0;34m\u001b[0m\u001b[0;34m\u001b[0m\u001b[0m\n\u001b[0m\u001b[1;32m     46\u001b[0m \u001b[0;34m\u001b[0m\u001b[0m\n\u001b[1;32m     47\u001b[0m         \u001b[0;32mfor\u001b[0m \u001b[0mp\u001b[0m \u001b[0;32min\u001b[0m \u001b[0mpedestrians\u001b[0m\u001b[0;34m:\u001b[0m\u001b[0;34m\u001b[0m\u001b[0;34m\u001b[0m\u001b[0m\n",
      "\u001b[0;31mKeyboardInterrupt\u001b[0m: "
     ]
    }
   ],
   "source": [
    "# Code for desired simulation given by user input: implement with Dijkstra algorithm or not\n",
    "in_val = input('Implement the Dijkstra algorithm? y/n:')\n",
    "if in_val == 'y':\n",
    "    dijkstra = True\n",
    "elif in_val == 'n':\n",
    "    dijkstra = False\n",
    "else:\n",
    "    print(\"ERROR: Invalid value. Write 'y' or 'n'\")\n",
    "    exit()\n",
    "\n",
    "pedestrian_loc = [(5, 23), (3, 27), (7, 32)]\n",
    "\n",
    "obstacles_loc = [(x, 20) for x in range(0, 20)] + [(x, 35) for x in range(0, 20)] + [(20, y) for y in range(20, 26)] + [(20, y) for y in range(30, 36)] + [(x, 20) for x in range(30, 50)] + [(x, 35) for x in range(30, 50)] + [(30, y) for y in range(20, 26)] + [(30, y) for y in range(30, 36)] + [(x, 30) for x in range(20, 30)] + [(x, 28) for x in range(20, 30)] + [(x, 25) for x in range(20, 30)] + [(29,29)]\n",
    "\n",
    "targets_loc = [(40, 28)]\n",
    "\n",
    "# Run simulation\n",
    "controller = PedestrianController(50, 50, pedestrian_loc,  \n",
    "                                    targets_loc, obstacles_loc, None, [1.3], 100, True, dijkstra, True, True)\n",
    "controller.init_costs()\n",
    "controller.run()"
   ]
  },
  {
   "cell_type": "markdown",
   "metadata": {},
   "source": [
    "# Task 5\n",
    "## Test 1: RiMEA scenario 1"
   ]
  },
  {
   "cell_type": "code",
   "execution_count": null,
   "metadata": {},
   "outputs": [
    {
     "ename": "SystemExit",
     "evalue": "",
     "output_type": "error",
     "traceback": [
      "An exception has occurred, use %tb to see the full traceback.\n",
      "\u001b[1;31mSystemExit\u001b[0m\n"
     ]
    },
    {
     "name": "stderr",
     "output_type": "stream",
     "text": [
      "C:\\Users\\Laptop\\AppData\\Local\\Programs\\Python\\Python37\\lib\\site-packages\\IPython\\core\\interactiveshell.py:3452: UserWarning: To exit: use 'exit', 'quit', or Ctrl-D.\n",
      "  warn(\"To exit: use 'exit', 'quit', or Ctrl-D.\", stacklevel=1)\n"
     ]
    },
    {
     "data": {
      "text/plain": [
       "Text(0.5, 1.0, 'Expected')"
      ]
     },
     "execution_count": 51,
     "metadata": {},
     "output_type": "execute_result"
    },
    {
     "data": {
      "image/png": "[encoded data removed]",
      "text/plain": [
       "<Figure size 432x288 with 1 Axes>"
      ]
     },
     "metadata": {
      "needs_background": "light"
     },
     "output_type": "display_data"
    },
    {
     "data": {
      "image/png": "[encoded data removed]",
      "text/plain": [
       "<Figure size 432x288 with 1 Axes>"
      ]
     },
     "metadata": {
      "needs_background": "light"
     },
     "output_type": "display_data"
    }
   ],
   "source": [
    "from numpy.random import default_rng\n",
    "import random\n",
    "import seaborn as sns\n",
    "import matplotlib.pyplot as plt\n",
    "\n",
    "times=[]\n",
    "speeds=[]\n",
    "times_expected=[]\n",
    "hallway_distance =41\n",
    "\n",
    "#Run a series of simulations and record the time pedestrian takes to reach target \n",
    "#starting with a speed between 1.2 and 1.4 m/s\n",
    "for i in range (0,15):\n",
    "\n",
    "    width = 50\n",
    "    height = 8\n",
    "    \n",
    "    ped_start = random.randint(3, 4)\n",
    "    pedestrian_loc = [(2, 3)]\n",
    "\n",
    "    obstacles_loc = [(x, 2) for x in range(1, hallway_distance)] + [(x, 5) for x in range(1, hallway_distance)]\n",
    "\n",
    "    targets_loc = [(hallway_distance-1, y) for y in range(3, 5)]\n",
    "\n",
    "    speed = []\n",
    "    num = random.uniform(1.2, 1.4)\n",
    "    speed.append(num)\n",
    "    speeds.append(num)\n",
    "    \n",
    "    #Create expected value for speed and time    \n",
    "    times_expected.append((hallway_distance-3)/num)\n",
    "\n",
    "    points = None\n",
    "\n",
    "    controller = PedestrianController(width, height, pedestrian_loc,  \n",
    "                                    targets_loc, obstacles_loc, points, speed, 10000, True, True, True,False,True)\n",
    "\n",
    "    controller.init_costs()\n",
    "    controller.run()\n",
    "    times.extend(controller.finishing_times)\n",
    " \n",
    "#Running the 1.33 m/s verification run and add to the rest of the collected data\n",
    "\n",
    "controller = PedestrianController(width, height, pedestrian_loc,  \n",
    "                                    targets_loc, obstacles_loc, points, [1.33], 10000, True, True, True,False,True)\n",
    "speeds.append(1.33)\n",
    "\n",
    "#Create expected values for speed and time \n",
    "times_expected.append((hallway_distance-3)/1.33)\n",
    "\n",
    "controller.init_costs()\n",
    "controller.run()\n",
    "times.extend(controller.finishing_times)\n",
    "\n",
    "\n",
    "\n",
    "#Create a plot to analyze results wiht 75% confidence interval\n",
    "plt.figure(1)\n",
    "sns.regplot(speeds, times, ci=75)\n",
    "plt.ylim(27, 32)\n",
    "plt.xlim(1.21, 1.39)\n",
    "#naming the x axis\n",
    "plt.xlabel('Walking Speed (m/s)')\n",
    "# naming the y axis\n",
    "plt.ylabel('Target Arrival Time (s)') \n",
    "#Plot Title\n",
    "plt.title(\"Experimental\")\n",
    "\n",
    "\n",
    "\n",
    "#plotting the expected values\n",
    "plt.figure(2)\n",
    "sns.regplot(speeds, times_expected,ci= None, scatter_kws={\"color\": \"green\"},line_kws={\"color\": \"green\",\"linewidth\":1,\"linestyle\":'dashed'})\n",
    "plt.ylim(27, 32)\n",
    "plt.xlim(1.21, 1.39)\n",
    "\n",
    "#naming the x axis\n",
    "plt.xlabel('Walking Speed (m/s)')\n",
    "# naming the y axis\n",
    "plt.ylabel('Target Arrival Time (s)')  \n",
    "#Plot Title\n",
    "plt.title(\"Expected\")"
   ]
  },
  {
   "cell_type": "markdown",
   "metadata": {},
   "source": [
    "## Test 2: RiMEA scenario 4"
   ]
  },
  {
   "cell_type": "code",
   "execution_count": 107,
   "metadata": {},
   "outputs": [],
   "source": [
    "from numpy.random import default_rng\n",
    "import random\n",
    "import matplotlib.pyplot as plt\n",
    "import numpy\n",
    "import math\n",
    "\n",
    "# Locate the pedestrians randomly in the field.\n",
    "corridor_width = 30\n",
    "corridor_height = 6\n",
    "\n",
    "def spawn_by_density(density, x1, x2):\n",
    "    width = (x2 - x1) + 1\n",
    "    n_peds = int(corridor_height*width*density)\n",
    "    pedestrian_loc = rng.choice([(x, y) for x in range(x1, x2+1) for y in range(1, corridor_height+1)], size=n_peds, replace=False)\n",
    "    return pedestrian_loc\n",
    "\n",
    "\n",
    "rng = default_rng()\n",
    "\n",
    "# spawn pedestrians in a certain area by density\n",
    "pedestrian_loc = np.concatenate([spawn_by_density(0.2, 1, 5), spawn_by_density(0.3, 6, 10), spawn_by_density(0.4, 11, 15), \n",
    "spawn_by_density(0.6, 16, 20), spawn_by_density(0.8, 20, 25), spawn_by_density(1, 26, 30)], axis=0)\n",
    "size_pedestrians = len(pedestrian_loc)\n",
    "\n",
    "obstacles_loc = []\n",
    "\n",
    "targets_loc = [(30+2, y) for y in range(1, corridor_height+1)]\n",
    "\n",
    "# Assign initial speeds to pedestrians.\n",
    "speed = []\n",
    "for i in range(0, size_pedestrians):\n",
    "    num = random.uniform(1.2, 1.4)\n",
    "    speed.append(num)\n",
    "\n",
    "points = [] # [(75, 5), (75, 6), (68, 5)]\n",
    "\n",
    "# Run simulation\n",
    "areas = [[(1, corridor_height+1), (10, 1)], [(11, corridor_height+1), (21, 1)], [(21, corridor_height+1), (31, 1)]]\n",
    "controller = PedestrianController(35, corridor_height+2, pedestrian_loc, \n",
    "                                    targets_loc, obstacles_loc, points, speed, -1, True, True, True, True)\n",
    "# Set the measuring areas of the simulation.\n",
    "controller.set_areas(areas)\n",
    "\n",
    "controller.init_costs()\n",
    "controller.run()\n",
    "\n",
    "# Graph the flow given by speed and density of each area.\n",
    "densities = []\n",
    "speeds = []\n",
    "for coordinate in controller.get_coordinates():\n",
    "    if coordinate:\n",
    "        for density, speed in coordinate:\n",
    "            plt.plot(speed, density, 'bo')\n",
    "            densities.append(density)\n",
    "            speeds.append(speed)\n",
    "\"\"\"\n",
    "# Fit a line to points in plot.\n",
    "model = numpy.poly1d(numpy.polyfit(densities, speed, 4))\n",
    "line = numpy.linspace(0, math.ceil(max(densities)))\n",
    "plt.plot(line, model(line))\n",
    "\"\"\"\n",
    "plt.ylabel('Speed')\n",
    "plt.xlabel('Density')\n",
    "plt.show()\n",
    "\n",
    "flow = np.array(speeds)*np.array(densities)\n",
    "plt.scatter(densities, flow)\n",
    "plt.ylabel('Flow')\n",
    "plt.xlabel('Density')\n",
    "plt.show()\n",
    "\n"
   ]
  },
  {
   "cell_type": "markdown",
   "metadata": {},
   "source": [
    "## Test 3: RiMEA scenario 6\n"
   ]
  },
  {
   "cell_type": "code",
   "execution_count": null,
   "metadata": {},
   "outputs": [],
   "source": [
    "from numpy.random import default_rng\n",
    "\n",
    "rng = default_rng()\n",
    "pedestrian_loc = rng.choice([(x, y) for x in range(1, 21) for y in range(11, 13)], size=20, replace=False)\n",
    "\n",
    "obstacles_loc = [(x, 10) for x in range(1, 25)] + [(x, 13) for x in range(1, 28)] + [(25, y) for y in range(1, 11)] + [(28, y) for y in range(1, 14)]\n",
    "\n",
    "targets_loc = [(x, 1) for x in range(26, 28)]\n",
    "\n",
    "controller = PedestrianController(30, 15, pedestrian_loc,  \n",
    "                                    targets_loc, obstacles_loc, None, [1.3], 10000, True, True, True)\n",
    "controller.init_costs()\n",
    "controller.run()"
   ]
  },
  {
   "cell_type": "markdown",
   "metadata": {},
   "source": [
    "## Test 4: RiMEA scenario 7"
   ]
  },
  {
   "cell_type": "code",
   "execution_count": 58,
   "metadata": {},
   "outputs": [
    {
     "name": "stdout",
     "output_type": "stream",
     "text": [
      "pedestrian of age 50 and speed 1.4415793043705196 is expected to take 6.936836544255609 seconds. Mean: 7.142857142857142\n",
      "Elapsed time: 6.940701961517334 s for pedestrian # 0\n",
      "pedestrian of age 68 and speed 1.1527246578541068 is expected to take 8.675098543147186 seconds. Mean: 9.29368029739777\n",
      "Elapsed time: 8.68088173866272 s for pedestrian # 0\n",
      "pedestrian of age 63 and speed 1.3025434596517342 is expected to take 7.677287023247375 seconds. Mean: 8.576329331046313\n",
      "Elapsed time: 7.6834869384765625 s for pedestrian # 0\n",
      "pedestrian of age 77 and speed 0.8429579761848663 is expected to take 11.862987577695016 seconds. Mean: 11.764705882352942\n",
      "Elapsed time: 11.872030973434448 s for pedestrian # 0\n",
      "pedestrian of age 36 and speed 1.69497435709896 is expected to take 5.899794270112463 seconds. Mean: 6.696428571428571\n",
      "Elapsed time: 5.907276153564453 s for pedestrian # 0\n",
      "pedestrian of age 60 and speed 1.1265441969155068 is expected to take 8.876704551299571 seconds. Mean: 8.19672131147541\n",
      "Elapsed time: 8.881393909454346 s for pedestrian # 0\n",
      "pedestrian of age 73 and speed 1.0319643049773557 is expected to take 9.690257649192072 seconds. Mean: 10.141987829614605\n",
      "Elapsed time: 10.139073133468628 s for pedestrian # 0\n",
      "pedestrian of age 38 and speed 1.3605719585857912 is expected to take 7.349850139785493 seconds. Mean: 6.756756756756757\n",
      "Elapsed time: 7.3599159717559814 s for pedestrian # 0\n",
      "pedestrian of age 50 and speed 1.2492923180911009 is expected to take 8.00453172983553 seconds. Mean: 7.142857142857142\n",
      "Elapsed time: 8.076828002929688 s for pedestrian # 0\n",
      "pedestrian of age 73 and speed 1.099813368998002 is expected to take 9.092451757620129 seconds. Mean: 10.141987829614605\n",
      "Elapsed time: 9.097105026245117 s for pedestrian # 0\n",
      "pedestrian of age 51 and speed 1.3256266942590733 is expected to take 7.5436018626565575 seconds. Mean: 7.235890014471781\n",
      "Elapsed time: 7.55648398399353 s for pedestrian # 0\n",
      "pedestrian of age 35 and speed 1.5999411910869243 is expected to take 6.250229730760587 seconds. Mean: 6.666666666666667\n",
      "Elapsed time: 6.255640983581543 s for pedestrian # 0\n",
      "pedestrian of age 47 and speed 1.2907371823218459 is expected to take 7.74751059856467 seconds. Mean: 7.04225352112676\n",
      "Elapsed time: 7.7504801750183105 s for pedestrian # 0\n",
      "pedestrian of age 27 and speed 1.6516204406728967 is expected to take 6.05465986841737 seconds. Mean: 6.437768240343347\n",
      "Elapsed time: 6.06002402305603 s for pedestrian # 0\n",
      "pedestrian of age 58 and speed 0.9380812905835849 is expected to take 10.660056969880458 seconds. Mean: 7.961783439490447\n",
      "Elapsed time: 10.666735172271729 s for pedestrian # 0\n",
      "pedestrian of age 46 and speed 1.1264731282134919 is expected to take 8.877264578747036 seconds. Mean: 7.009345794392523\n",
      "Elapsed time: 8.889188051223755 s for pedestrian # 0\n",
      "pedestrian of age 50 and speed 1.4290279399691974 is expected to take 6.99776380874369 seconds. Mean: 7.142857142857142\n",
      "Elapsed time: 7.00225830078125 s for pedestrian # 0\n",
      "pedestrian of age 68 and speed 1.1170246730793918 is expected to take 8.952353731303173 seconds. Mean: 9.29368029739777\n",
      "Elapsed time: 8.95638918876648 s for pedestrian # 0\n",
      "pedestrian of age 50 and speed 1.6852588515476286 is expected to take 5.933806543022558 seconds. Mean: 7.142857142857142\n",
      "Elapsed time: 5.940683126449585 s for pedestrian # 0\n",
      "pedestrian of age 32 and speed 1.4834940036521487 is expected to take 6.740842885364848 seconds. Mean: 6.578947368421052\n",
      "Elapsed time: 6.743515968322754 s for pedestrian # 0\n",
      "pedestrian of age 63 and speed 1.165311871121245 is expected to take 8.581393743443252 seconds. Mean: 8.576329331046313\n",
      "Elapsed time: 8.593157052993774 s for pedestrian # 0\n",
      "pedestrian of age 72 and speed 0.8251176808144303 is expected to take 12.119483356761336 seconds. Mean: 9.9601593625498\n",
      "Elapsed time: 12.124777793884277 s for pedestrian # 0\n",
      "pedestrian of age 49 and speed 1.5128199470060637 is expected to take 6.61017196381528 seconds. Mean: 7.109004739336492\n",
      "Elapsed time: 6.613870859146118 s for pedestrian # 0\n",
      "pedestrian of age 55 and speed 1.2601551919379717 is expected to take 7.935530531458722 seconds. Mean: 7.633587786259543\n",
      "Elapsed time: 7.939778089523315 s for pedestrian # 0\n",
      "pedestrian of age 56 and speed 1.310116912702346 is expected to take 7.632906577301751 seconds. Mean: 7.7399380804953575\n",
      "Elapsed time: 7.636047840118408 s for pedestrian # 0\n",
      "pedestrian of age 51 and speed 1.5279534888208088 is expected to take 6.544701833638571 seconds. Mean: 7.235890014471781\n",
      "Elapsed time: 6.5482261180877686 s for pedestrian # 0\n",
      "pedestrian of age 54 and speed 1.21861890280434 is expected to take 8.206010900526453 seconds. Mean: 7.530120481927712\n",
      "Elapsed time: 8.210352897644043 s for pedestrian # 0\n",
      "pedestrian of age 46 and speed 1.8713647921936443 is expected to take 5.343693566168805 seconds. Mean: 7.009345794392523\n",
      "Elapsed time: 5.348278999328613 s for pedestrian # 0\n",
      "pedestrian of age 25 and speed 1.924175912787312 is expected to take 5.1970300290861955 seconds. Mean: 6.382978723404255\n",
      "Elapsed time: 5.200568914413452 s for pedestrian # 0\n",
      "pedestrian of age 60 and speed 1.5576190361534334 is expected to take 6.42005507630105 seconds. Mean: 8.19672131147541\n",
      "Elapsed time: 6.426305055618286 s for pedestrian # 0\n",
      "pedestrian of age 55 and speed 1.6903544356143794 is expected to take 5.915919045916179 seconds. Mean: 7.633587786259543\n",
      "Elapsed time: 5.919268846511841 s for pedestrian # 0\n",
      "pedestrian of age 79 and speed 0.8372163548776655 is expected to take 11.94434382670559 seconds. Mean: 13.333333333333334\n",
      "Elapsed time: 11.967430114746094 s for pedestrian # 0\n",
      "pedestrian of age 22 and speed 0.964522591918773 is expected to take 10.367823505415773 seconds. Mean: 6.302521008403361\n",
      "Elapsed time: 10.371282815933228 s for pedestrian # 0\n",
      "pedestrian of age 63 and speed 1.4371410680205072 is expected to take 6.958259159467082 seconds. Mean: 8.576329331046313\n",
      "Elapsed time: 6.963542699813843 s for pedestrian # 0\n",
      "pedestrian of age 57 and speed 1.3535828039315234 is expected to take 7.38780071005238 seconds. Mean: 7.849293563579278\n",
      "Elapsed time: 7.393327236175537 s for pedestrian # 0\n",
      "pedestrian of age 54 and speed 1.3246467437418004 is expected to take 7.549182487515476 seconds. Mean: 7.530120481927712\n",
      "Elapsed time: 7.559835910797119 s for pedestrian # 0\n",
      "pedestrian of age 59 and speed 1.417575377320694 is expected to take 7.0542986002625305 seconds. Mean: 8.077544426494345\n",
      "Elapsed time: 7.0589048862457275 s for pedestrian # 0\n",
      "pedestrian of age 68 and speed 1.0639251600210098 is expected to take 9.399157361597243 seconds. Mean: 9.29368029739777\n",
      "Elapsed time: 9.402942895889282 s for pedestrian # 0\n",
      "pedestrian of age 77 and speed 0.8828849236418883 is expected to take 11.326504431347786 seconds. Mean: 11.764705882352942\n",
      "Elapsed time: 11.333136081695557 s for pedestrian # 0\n",
      "pedestrian of age 57 and speed 1.4647566758781672 is expected to take 6.827072485609045 seconds. Mean: 7.849293563579278\n",
      "Elapsed time: 6.83096718788147 s for pedestrian # 0\n",
      "pedestrian of age 52 and speed 1.2394240646795864 is expected to take 8.068263546734652 seconds. Mean: 7.331378299120235\n",
      "Elapsed time: 8.071662187576294 s for pedestrian # 0\n",
      "pedestrian of age 58 and speed 1.302309506332625 is expected to take 7.678666209049297 seconds. Mean: 7.961783439490447\n",
      "Elapsed time: 7.683104038238525 s for pedestrian # 0\n",
      "pedestrian of age 50 and speed 1.424214791491908 is expected to take 7.02141282321938 seconds. Mean: 7.142857142857142\n",
      "Elapsed time: 7.025408983230591 s for pedestrian # 0\n",
      "pedestrian of age 35 and speed 1.4374510206277198 is expected to take 6.9567587740367705 seconds. Mean: 6.666666666666667\n",
      "Elapsed time: 6.960958003997803 s for pedestrian # 0\n",
      "pedestrian of age 48 and speed 1.4514858785714677 is expected to take 6.889491759879787 seconds. Mean: 7.0754716981132075\n",
      "Elapsed time: 6.891786813735962 s for pedestrian # 0\n",
      "pedestrian of age 46 and speed 1.6022036676260978 is expected to take 6.241403762866479 seconds. Mean: 7.009345794392523\n",
      "Elapsed time: 6.244453191757202 s for pedestrian # 0\n",
      "pedestrian of age 68 and speed 0.9912058354906778 is expected to take 10.088721879900644 seconds. Mean: 9.29368029739777\n",
      "Elapsed time: 10.107733011245728 s for pedestrian # 0\n",
      "pedestrian of age 58 and speed 1.3344652890145998 is expected to take 7.493638150291816 seconds. Mean: 7.961783439490447\n",
      "Elapsed time: 7.49756383895874 s for pedestrian # 0\n",
      "pedestrian of age 66 and speed 0.9662598324241047 is expected to take 10.349183174584104 seconds. Mean: 8.992805755395684\n",
      "Elapsed time: 10.365264892578125 s for pedestrian # 0\n",
      "pedestrian of age 56 and speed 1.570693979145057 is expected to take 6.366612550105458 seconds. Mean: 7.7399380804953575\n",
      "Elapsed time: 6.374671936035156 s for pedestrian # 0\n"
     ]
    },
    {
     "data": {
      "text/plain": [
       "[]"
      ]
     },
     "execution_count": 58,
     "metadata": {},
     "output_type": "execute_result"
    },
    {
     "data": {
      "image/png": "[encoded data removed]",
      "text/plain": [
       "<Figure size 432x288 with 1 Axes>"
      ]
     },
     "metadata": {
      "needs_background": "light"
     },
     "output_type": "display_data"
    }
   ],
   "source": [
    "from numpy.random import default_rng\n",
    "import random\n",
    "import matplotlib.pyplot as plt\n",
    "\n",
    "\n",
    "def get_speed(age):\n",
    "    speed = 0\n",
    "    sigma = 0\n",
    "    if 20 <= age <= 50:\n",
    "        speed = 1.6 - 0.2/30*(age - 20)\n",
    "        sigma = 0.3 - 0.05/30*(age - 20)\n",
    "    elif 50 <= age <= 75:\n",
    "        speed = 1.4 - 0.45/25*(age - 50)\n",
    "        sigma = 0.25 - 0.05/25*(age - 50)\n",
    "    elif 75 <= age <= 80:\n",
    "        speed = 0.95 - 0.25/5*(age - 75)\n",
    "        sigma = 0.2 - 0.1/5*(age - 75)\n",
    "    return speed, sigma\n",
    "\n",
    "ages = []\n",
    "actual_speeds = []\n",
    "path_length = 10\n",
    "for i in range(50):\n",
    "    age = np.random.randint(20, 80)\n",
    "    mean, sigma = get_speed(age)\n",
    "    speed = np.random.normal(mean, sigma)\n",
    "    controller = PedestrianController(15, 5, [(1, 3)],  \n",
    "                                    [(1 + path_length, 3)], [], [], [speed], -1, True, True, True, end_on_reached_targets=True)\n",
    "    print(\"pedestrian of age\", age, \"and speed\", speed, \"is expected to take\", path_length/speed, \"seconds. Mean:\", path_length/mean)\n",
    "    controller.init_costs()\n",
    "    controller.run()\n",
    "    ages.append(age)\n",
    "    actual_speeds.append(path_length/(controller.finishing_times[0]))\n",
    "\n",
    "plt.plot([20, 50, 75, 80], [1.9, 1.65, 1.1, 0.8])\n",
    "plt.plot([20, 50, 75, 80], [1.6, 1.4, 0.95, 0.7])\n",
    "plt.plot([20, 50, 75, 80], [1.3,  1.15, 0.75, 0.6])\n",
    "\n",
    "plt.scatter(ages, [s for s in actual_speeds])\n",
    "plt.xlabel('Age')\n",
    "plt.ylabel('Speed')\n",
    "plt.plot()"
   ]
  },
  {
   "cell_type": "code",
   "execution_count": null,
   "metadata": {},
   "outputs": [],
   "source": []
  }
 ],
 "metadata": {
  "interpreter": {
   "hash": "aee8b7b246df8f9039afb4144a1f6fd8d2ca17a180786b69acc140d282b71a49"
  },
  "kernelspec": {
   "codemirror_mode": {
    "version": 3
   },
   "file_extension": ".py",
   "mimetype": "text/x-python",
   "name": "python",
   "nbconvert_exporter": "python",
   "pygments_lexer": "ipython3",
   "version": "3.8.5"
  }
 },
 "nbformat": 4,
 "nbformat_minor": 4
}
